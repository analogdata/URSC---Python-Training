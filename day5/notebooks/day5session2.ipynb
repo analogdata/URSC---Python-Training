{
 "cells": [
  {
   "cell_type": "markdown",
   "id": "b2aa1f6e",
   "metadata": {},
   "source": [
    "## Day 5 Session 2\n",
    "\n",
    "It Consist's some of the programs from Day 5 Session 2.\n",
    "\n",
    "Since we are using socket programming, we need to run the server first and then the client.\n",
    "So, we need to run the server.py first and then the client.py\n",
    "We're running the server.py and client.py through the terminal."
   ]
  },
  {
   "cell_type": "code",
   "execution_count": 3,
   "id": "e4691aec",
   "metadata": {},
   "outputs": [
    {
     "name": "stdout",
     "output_type": "stream",
     "text": [
      "\n",
      "--- Protocol Design: Binary vs. JSON ---\n",
      "📝 JSON Data: {'id': 'S1', 'val': 25.5}\n",
      "📦 JSON Bytes: b'{\"id\": \"S1\", \"val\": 25.5}' (Length: 25 bytes)\n",
      "\n",
      "🔧 Binary Data: Sensor ID = 101, Temperature = 28.75\n",
      "📦 Binary Bytes: b'e\\x00\\x00\\x00\\xe6A' (Length: 6 bytes)\n",
      "🔓 Unpacked Binary: ID = 101, Temp = 28.75\n",
      "\n",
      "📏 Comparing data sizes:\n",
      "JSON Payload Length  : 25 bytes\n",
      "Binary Payload Length: 6 bytes\n"
     ]
    }
   ],
   "source": [
    "import struct\n",
    "import json\n",
    "\n",
    "print(\"\\n--- Protocol Design: Binary vs. JSON ---\")\n",
    "\n",
    "# ---------------------------\n",
    "# JSON Example (Human-readable)\n",
    "# ---------------------------\n",
    "# This is how data is usually exchanged on the web – readable but slightly heavy.\n",
    "\n",
    "json_data = {\n",
    "    \"id\": \"S1\",       # String ID (2 characters)\n",
    "    \"val\": 25.5       # Temperature value\n",
    "}\n",
    "\n",
    "# Convert the dictionary into a UTF-8 encoded byte string\n",
    "json_bytes = json.dumps(json_data).encode('utf-8')\n",
    "\n",
    "print(f\"📝 JSON Data: {json_data}\")\n",
    "print(f\"📦 JSON Bytes: {json_bytes} (Length: {len(json_bytes)} bytes)\")\n",
    "\n",
    "# ---------------------------\n",
    "# Binary Protocol Example (Compact, not human-readable)\n",
    "# ---------------------------\n",
    "# Use struct to pack raw numbers efficiently into bytes.\n",
    "\n",
    "sensor_id_bin = 101        # Integer (short)\n",
    "temperature_bin = 28.75    # Float\n",
    "\n",
    "# Struct format: '<h f' means:\n",
    "# <  : Little-endian (byte order)\n",
    "# h  : Short integer (2 bytes)\n",
    "# f  : Float (4 bytes)\n",
    "binary_packet = struct.pack('<h f', sensor_id_bin, temperature_bin)\n",
    "\n",
    "print(f\"\\n🔧 Binary Data: Sensor ID = {sensor_id_bin}, Temperature = {temperature_bin}\")\n",
    "print(f\"📦 Binary Bytes: {binary_packet} (Length: {len(binary_packet)} bytes)\")\n",
    "\n",
    "# Unpack the bytes back to Python values\n",
    "unpacked_id, unpacked_temp = struct.unpack('<h f', binary_packet)\n",
    "\n",
    "print(f\"🔓 Unpacked Binary: ID = {unpacked_id}, Temp = {unpacked_temp}\")\n",
    "\n",
    "# ---------------------------\n",
    "# Size Comparison\n",
    "# ---------------------------\n",
    "print(\"\\n📏 Comparing data sizes:\")\n",
    "print(f\"JSON Payload Length  : {len(json_bytes)} bytes\")\n",
    "print(f\"Binary Payload Length: {len(binary_packet)} bytes\")"
   ]
  },
  {
   "cell_type": "code",
   "execution_count": null,
   "id": "ad5521ef",
   "metadata": {},
   "outputs": [],
   "source": []
  }
 ],
 "metadata": {
  "kernelspec": {
   "display_name": "urscenv",
   "language": "python",
   "name": "python3"
  },
  "language_info": {
   "codemirror_mode": {
    "name": "ipython",
    "version": 3
   },
   "file_extension": ".py",
   "mimetype": "text/x-python",
   "name": "python",
   "nbconvert_exporter": "python",
   "pygments_lexer": "ipython3",
   "version": "3.13.5"
  }
 },
 "nbformat": 4,
 "nbformat_minor": 5
}
