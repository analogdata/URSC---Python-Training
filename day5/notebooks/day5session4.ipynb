{
 "cells": [
  {
   "cell_type": "markdown",
   "id": "14de935f",
   "metadata": {},
   "source": []
  },
  {
   "cell_type": "code",
   "execution_count": 2,
   "id": "e52cadd2",
   "metadata": {},
   "outputs": [
    {
     "name": "stdout",
     "output_type": "stream",
     "text": [
      "--- Listing Available Serial Ports ---\n",
      "✅ Found the following serial ports:\n",
      " - Device: /dev/cu.debug-console\n",
      "   Description: n/a\n",
      "   Hardware ID: n/a\n",
      "----------------------------------------\n",
      " - Device: /dev/cu.Bluetooth-Incoming-Port\n",
      "   Description: n/a\n",
      "   Hardware ID: n/a\n",
      "----------------------------------------\n",
      "\n",
      "💡 Tip: In your code, use one of the listed 'Device' names instead of a placeholder like 'COM3'.\n"
     ]
    }
   ],
   "source": [
    "# ------------------------------------------------------------\n",
    "# Serial Port Detection using pyserial\n",
    "# This script lists all available serial (COM) ports on your system.\n",
    "# Works on Windows (COMx), Linux (/dev/ttyUSBx), and macOS (/dev/cu.x).\n",
    "# ------------------------------------------------------------\n",
    "\n",
    "import serial.tools.list_ports  # Import the submodule to list serial ports\n",
    "\n",
    "print(\"--- Listing Available Serial Ports ---\")\n",
    "\n",
    "try:\n",
    "    # Get a list of all serial ports currently connected\n",
    "    available_ports = serial.tools.list_ports.comports()\n",
    "\n",
    "    if available_ports:\n",
    "        print(\"✅ Found the following serial ports:\")\n",
    "        for port in available_ports:\n",
    "            print(f\" - Device: {port.device}\")           # The port name (e.g., COM3, /dev/ttyUSB0)\n",
    "            print(f\"   Description: {port.description}\") # A human-readable description of the port\n",
    "            print(f\"   Hardware ID: {port.hwid}\")        # The unique hardware ID (useful for debugging)\n",
    "            print(\"-\" * 40)\n",
    "        \n",
    "        print(\"\\n💡 Tip: In your code, use one of the listed 'Device' names instead of a placeholder like 'COM3'.\")\n",
    "    else:\n",
    "        print(\"⚠️ No serial ports found.\")\n",
    "        print(\"   This is normal if no USB/Serial devices are connected (like Arduino, USB-to-Serial adapters).\")\n",
    "        print(\"   You can still write and test code using a dummy port name like '/dev/ttyUSB0' or 'COM4'.\")\n",
    "except Exception as e:\n",
    "    print(f\"❌ Error listing ports: {e}\")\n",
    "    print(\"Make sure pyserial is installed and you have permission to access serial devices.\")"
   ]
  }
 ],
 "metadata": {
  "kernelspec": {
   "display_name": "urscenv",
   "language": "python",
   "name": "python3"
  },
  "language_info": {
   "codemirror_mode": {
    "name": "ipython",
    "version": 3
   },
   "file_extension": ".py",
   "mimetype": "text/x-python",
   "name": "python",
   "nbconvert_exporter": "python",
   "pygments_lexer": "ipython3",
   "version": "3.13.5"
  }
 },
 "nbformat": 4,
 "nbformat_minor": 5
}
