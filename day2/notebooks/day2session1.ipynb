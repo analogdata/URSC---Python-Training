{
 "cells": [
  {
   "cell_type": "markdown",
   "id": "03d7149b",
   "metadata": {},
   "source": [
    "## Day 2 Session 1\n",
    "\n",
    "It Consist's of all the programs from Day 2 Session 1."
   ]
  },
  {
   "cell_type": "code",
   "execution_count": 39,
   "id": "9679f967",
   "metadata": {},
   "outputs": [
    {
     "name": "stdout",
     "output_type": "stream",
     "text": [
      "Robot says: I just woke up.\n",
      "Robot says: I finished checking the room.\n"
     ]
    }
   ],
   "source": [
    "# Imagine a robot telling us what it's doing\n",
    "def robot_speaks(message):\n",
    "    print(f\"Robot says: {message}\")\n",
    "\n",
    "# Let's make the robot say two things\n",
    "robot_speaks(\"I just woke up.\")\n",
    "robot_speaks(\"I finished checking the room.\")"
   ]
  },
  {
   "cell_type": "code",
   "execution_count": 40,
   "id": "d19d9d3e",
   "metadata": {},
   "outputs": [
    {
     "name": "stdout",
     "output_type": "stream",
     "text": [
      "LOG: System initialization started.\n",
      "LOG: Sensor A reading complete\n"
     ]
    }
   ],
   "source": [
    "# Defining a simple function to log an event\n",
    "def log_event(event_message):\n",
    "    \"\"\"\n",
    "    Logs a simple event message to the console.\n",
    "    This is a docstring, explaining what the function does.\n",
    "    \"\"\"\n",
    "    print(f\"LOG: {event_message}\")\n",
    "\n",
    "# Calling the function\n",
    "log_event(\"System initialization started.\")\n",
    "log_event(\"Sensor A reading complete\") "
   ]
  },
  {
   "cell_type": "code",
   "execution_count": 41,
   "id": "3d70cb8b",
   "metadata": {},
   "outputs": [
    {
     "name": "stdout",
     "output_type": "stream",
     "text": [
      "Score difference between two matches: 15\n"
     ]
    }
   ],
   "source": [
    "# Comparing scores of two cricket matches\n",
    "def score_difference(today_score, yesterday_score):\n",
    "    difference = abs(today_score - yesterday_score)\n",
    "    return difference\n",
    "\n",
    "# Let's try with some made-up scores\n",
    "diff = score_difference(245, 230)\n",
    "print(\"Score difference between two matches:\", diff)"
   ]
  },
  {
   "cell_type": "code",
   "execution_count": 42,
   "id": "d26fd138",
   "metadata": {},
   "outputs": [
    {
     "name": "stdout",
     "output_type": "stream",
     "text": [
      "Temperature change: 1.50°C\n",
      "Pressure change: 1.20 kPa\n"
     ]
    }
   ],
   "source": [
    "# Function to calculate delta between two sensor readings\n",
    "def calculate_delta(reading1, reading2):\n",
    "    \"\"\"\n",
    "    Calculates the absolute difference between two sensor readings.\n",
    "    Returns the absolute delta.\n",
    "    \"\"\"\n",
    "    delta = abs(reading1 - reading2)\n",
    "    return delta\n",
    "\n",
    "# Calling the function and storing the returned value\n",
    "current_temp = 25.0\n",
    "previous_temp = 23.5\n",
    "temperature_change = calculate_delta(current_temp, previous_temp)\n",
    "print(f\"Temperature change: {temperature_change:.2f}°C\")\n",
    "\n",
    "pressure_current = 101.2\n",
    "pressure_previous = 100.0\n",
    "pressure_change = calculate_delta(pressure_current, pressure_previous)\n",
    "print(f\"Pressure change: {pressure_change:.2f} kPa\")"
   ]
  },
  {
   "cell_type": "code",
   "execution_count": 43,
   "id": "a87250c3",
   "metadata": {},
   "outputs": [
    {
     "name": "stdout",
     "output_type": "stream",
     "text": [
      "Lowest mark: 65\n",
      "Highest mark: 90\n",
      "Average mark: 78.4\n"
     ]
    }
   ],
   "source": [
    "# Let's look at a student's 5 test scores\n",
    "def analyze_scores(scores):\n",
    "    if not scores:\n",
    "        return None, None, None\n",
    "\n",
    "    lowest = min(scores)\n",
    "    highest = max(scores)\n",
    "    average = sum(scores) / len(scores)\n",
    "    return lowest, highest, average\n",
    "\n",
    "marks = [72, 88, 90, 65, 77]\n",
    "low, high, avg = analyze_scores(marks)\n",
    "\n",
    "print(\"Lowest mark:\", low)\n",
    "print(\"Highest mark:\", high)\n",
    "print(\"Average mark:\", round(avg, 2))"
   ]
  },
  {
   "cell_type": "code",
   "execution_count": 44,
   "id": "d082a3ee",
   "metadata": {},
   "outputs": [
    {
     "name": "stdout",
     "output_type": "stream",
     "text": [
      "Sensor Statistics: Min=11.9, Max=14.0, Avg=12.86\n",
      "Empty Readings Statistics: Min=None, Max=None, Avg=None\n"
     ]
    }
   ],
   "source": [
    "# Functions can return multiple values as a tuple\n",
    "def get_sensor_statistics(data_points):\n",
    "    \"\"\"\n",
    "    Calculates the minimum, maximum, and average of a list of data points.\n",
    "    Returns these three values as a tuple.\n",
    "    \"\"\"\n",
    "    if not data_points:\n",
    "        return None, None, None # Return None for all if list is empty\n",
    "    min_val = min(data_points)\n",
    "    max_val = max(data_points)\n",
    "    avg_val = sum(data_points) / len(data_points)\n",
    "    return min_val, max_val, avg_val\n",
    "\n",
    "sensor_readings = [12.5, 13.1, 11.9, 14.0, 12.8]\n",
    "min_r, max_r, avg_r = get_sensor_statistics(sensor_readings) # Unpacking the tuple\n",
    "print(f\"Sensor Statistics: Min={min_r}, Max={max_r}, Avg={avg_r:.2f}\")\n",
    "\n",
    "empty_readings = []\n",
    "min_e, max_e, avg_e = get_sensor_statistics(empty_readings)\n",
    "print(f\"Empty Readings Statistics: Min={min_e}, Max={max_e}, Avg={avg_e}\")"
   ]
  },
  {
   "cell_type": "code",
   "execution_count": 45,
   "id": "dc732993",
   "metadata": {},
   "outputs": [
    {
     "name": "stdout",
     "output_type": "stream",
     "text": [
      "Student Name: Anjali R.\n",
      "Project Title: My Science Fair Project\n",
      "Submitted On: June 24, 2025\n"
     ]
    }
   ],
   "source": [
    "# Function to show a student's project info\n",
    "def show_project_info(student_name, project_title, submission_date):\n",
    "    print(\"Student Name:\", student_name)\n",
    "    print(\"Project Title:\", project_title)\n",
    "    print(\"Submitted On:\", submission_date)\n",
    "\n",
    "# Let's fill in the details\n",
    "show_project_info(\"Anjali R.\", \"My Science Fair Project\", \"June 24, 2025\")"
   ]
  },
  {
   "cell_type": "code",
   "execution_count": 46,
   "id": "f4e83b79",
   "metadata": {},
   "outputs": [
    {
     "name": "stdout",
     "output_type": "stream",
     "text": [
      "Student Name: Rahul S.\n",
      "Project Title: Volcano Model\n",
      "Submitted On: June 25, 2025\n",
      "Student Name: Meena T.\n",
      "Project Title: Solar System Model\n",
      "Submitted On: June 26, 2025\n"
     ]
    }
   ],
   "source": [
    "# Reusing the student project info function\n",
    "show_project_info(project_title=\"Volcano Model\", submission_date=\"June 25, 2025\", student_name=\"Rahul S.\")\n",
    "\n",
    "# Mixing positional and keyword arguments\n",
    "show_project_info(\"Meena T.\", project_title=\"Solar System Model\", submission_date=\"June 26, 2025\")"
   ]
  },
  {
   "cell_type": "code",
   "execution_count": 47,
   "id": "9953dfdf",
   "metadata": {},
   "outputs": [
    {
     "name": "stdout",
     "output_type": "stream",
     "text": [
      "Project ID: ISRO-SAT-001\n",
      "Author: ABCDEF\n",
      "Date: \n"
     ]
    }
   ],
   "source": [
    "def generate_report(project_id, author_name, report_date):\n",
    "    \"\"\"\n",
    "    Generates a basic project report header.\n",
    "    \"\"\"\n",
    "    print(f\"Project ID: {project_id}\")\n",
    "    print(f\"Author: {author_name}\")\n",
    "    print(f\"Date: {report_date}\")\n",
    "\n",
    "# Calling with positional arguments\n",
    "generate_report(\"ISRO-SAT-001\", \"ABCDEF\", \"\")"
   ]
  },
  {
   "cell_type": "code",
   "execution_count": 48,
   "id": "70d77d6b",
   "metadata": {},
   "outputs": [
    {
     "name": "stdout",
     "output_type": "stream",
     "text": [
      "Project ID: URSC-TEST-002\n",
      "Author: Er. B. Singh\n",
      "Date: 2025-06-21\n",
      "Project ID: TEL-ANL-003\n",
      "Author: Ms. C. DDEF\n",
      "Date: 2025-06-22\n"
     ]
    }
   ],
   "source": [
    "# Using the same function\n",
    "generate_report(report_date=\"2025-06-21\", project_id=\"URSC-TEST-002\", author_name=\"Er. B. Singh\")\n",
    "\n",
    "# You can mix positional and keyword arguments, but positional must come first\n",
    "generate_report(\"TEL-ANL-003\", report_date=\"2025-06-22\", author_name=\"Ms. C. DDEF\")\n",
    "# generate_report(report_date=\"2025-06-22\", \"TEL-ANL-003\", author_name=\"Ms. C. Devi\") # This would be an error\n"
   ]
  },
  {
   "cell_type": "code",
   "execution_count": 49,
   "id": "bd1ea4e0",
   "metadata": {},
   "outputs": [
    {
     "name": "stdout",
     "output_type": "stream",
     "text": [
      "\n",
      "Enrolling: Aarav\n",
      "  Course: Python Basics\n",
      "  Payment Done: False\n",
      "  Notes: \n",
      "\n",
      "Enrolling: Diya\n",
      "  Course: Data Science\n",
      "  Payment Done: True\n",
      "  Notes: \n",
      "\n",
      "Enrolling: Zara\n",
      "  Course: Web Development\n",
      "  Payment Done: False\n",
      "  Notes: \n",
      "\n",
      "Enrolling: Ravi\n",
      "  Course: ML 101\n",
      "  Payment Done: True\n",
      "  Notes: Scholarship student\n"
     ]
    }
   ],
   "source": [
    "# A function to enroll students in a class with optional choices\n",
    "def enroll_student(name, course=\"Python Basics\", has_paid=False, notes=\"\"):\n",
    "    print(f\"\\nEnrolling: {name}\")\n",
    "    print(f\"  Course: {course}\")\n",
    "    print(f\"  Payment Done: {has_paid}\")\n",
    "    print(f\"  Notes: {notes}\")\n",
    "\n",
    "# Default values will be used\n",
    "enroll_student(\"Aarav\")\n",
    "\n",
    "# Overriding some default options\n",
    "enroll_student(\"Diya\", course=\"Data Science\", has_paid=True)\n",
    "\n",
    "# Changing one value using position (not recommended)\n",
    "enroll_student(\"Zara\", \"Web Development\")\n",
    "\n",
    "# Combining everything using keyword args\n",
    "enroll_student(\"Ravi\", course=\"ML 101\", has_paid=True, notes=\"Scholarship student\")"
   ]
  },
  {
   "cell_type": "code",
   "execution_count": 50,
   "id": "249b57e1",
   "metadata": {},
   "outputs": [
    {
     "name": "stdout",
     "output_type": "stream",
     "text": [
      "\n",
      "Configuring Sensor: TempSensor_001\n",
      "  Sampling Rate: 10 Hz\n",
      "  Calibration Offset: 0.0\n",
      "  Debug Mode: False\n",
      "\n",
      "Configuring Sensor: PressureSensor_002\n",
      "  Sampling Rate: 50 Hz\n",
      "  Calibration Offset: 0.0\n",
      "  Debug Mode: True\n",
      "\n",
      "Configuring Sensor: FlowMeter_003\n",
      "  Sampling Rate: 20 Hz\n",
      "  Calibration Offset: 0.0\n",
      "  Debug Mode: False\n",
      "\n",
      "Configuring Sensor: VoltMeter_004\n",
      "  Sampling Rate: 5 Hz\n",
      "  Calibration Offset: 0.15\n",
      "  Debug Mode: False\n"
     ]
    }
   ],
   "source": [
    "def configure_sensor(sensor_id, sampling_rate_hz=10, calibration_offset=0.0, debug_mode=False):\n",
    "    \"\"\"\n",
    "    Configures a sensor with optional parameters.\n",
    "    \"\"\"\n",
    "    print(f\"\\nConfiguring Sensor: {sensor_id}\")\n",
    "    print(f\"  Sampling Rate: {sampling_rate_hz} Hz\")\n",
    "    print(f\"  Calibration Offset: {calibration_offset}\")\n",
    "    print(f\"  Debug Mode: {debug_mode}\")\n",
    "\n",
    "# Using all default arguments for optional parameters\n",
    "configure_sensor(\"TempSensor_001\")\n",
    "\n",
    "# Overriding some default arguments using keywords\n",
    "configure_sensor(\"PressureSensor_002\", sampling_rate_hz=50, debug_mode=True)\n",
    "\n",
    "# Overriding a specific default argument using position (less readable for optional args)\n",
    "configure_sensor(\"FlowMeter_003\", 20) # 20 is for sampling_rate_hz\n",
    "\n",
    "# Combining all types: Positional, then Keyword defaults\n",
    "configure_sensor(\"VoltMeter_004\", sampling_rate_hz=5, calibration_offset=0.15)"
   ]
  },
  {
   "cell_type": "code",
   "execution_count": 51,
   "id": "d11dde1f",
   "metadata": {},
   "outputs": [
    {
     "name": "stdout",
     "output_type": "stream",
     "text": [
      "['apple']\n",
      "['apple', 'banana']\n",
      "['apple']\n",
      "['banana']\n"
     ]
    }
   ],
   "source": [
    "# ❌ This version causes unexpected behavior!\n",
    "def add_to_cart_wrong(item, cart=[]):\n",
    "    cart.append(item)\n",
    "    return cart\n",
    "\n",
    "print(add_to_cart_wrong(\"apple\"))   # ['apple']\n",
    "print(add_to_cart_wrong(\"banana\"))  # ['apple', 'banana'] ← Not what you expect!\n",
    "\n",
    "# ✅ Correct way using None as default\n",
    "def add_to_cart(item, cart=None):\n",
    "    if cart is None:\n",
    "        cart = []\n",
    "    cart.append(item)\n",
    "    return cart\n",
    "\n",
    "print(add_to_cart(\"apple\"))   # ['apple']\n",
    "print(add_to_cart(\"banana\"))  # ['banana'] ← New list each time"
   ]
  },
  {
   "cell_type": "code",
   "execution_count": 52,
   "id": "55336334",
   "metadata": {},
   "outputs": [
    {
     "name": "stdout",
     "output_type": "stream",
     "text": [
      "[1]\n",
      "[1, 2]\n",
      "[1, 2, 3]\n",
      "[1]\n",
      "[2]\n"
     ]
    }
   ],
   "source": [
    "def add_to_list_BAD(item, my_list=[]): # BAD PRACTICE\n",
    "    my_list.append(item)\n",
    "    return my_list\n",
    "\n",
    "print(add_to_list_BAD(1)) # Output:\n",
    "print(add_to_list_BAD(2)) # Output: - Unexpected! `my_list` is the same object\n",
    "print(add_to_list_BAD(3)) # Output: - This works as a new list is passed\n",
    "\n",
    "def add_to_list_GOOD(item, my_list=None): # GOOD PRACTICE\n",
    "    if my_list is None:\n",
    "        my_list = []\n",
    "    my_list.append(item)\n",
    "    return my_list\n",
    "\n",
    "print(add_to_list_GOOD(1)) # Output:\n",
    "print(add_to_list_GOOD(2)) # Output: - Correct, new list each time"
   ]
  },
  {
   "cell_type": "code",
   "execution_count": 53,
   "id": "4e569acc",
   "metadata": {},
   "outputs": [
    {
     "name": "stdout",
     "output_type": "stream",
     "text": [
      "Average of (75, 80, 85): 80.0\n",
      "Average of (60, 70): 65.0\n",
      "Average of none: 0.0\n"
     ]
    }
   ],
   "source": [
    "# Average of any number of marks\n",
    "def average_marks(*marks):\n",
    "    if not marks:\n",
    "        return 0.0\n",
    "    return sum(marks) / len(marks)\n",
    "\n",
    "print(\"Average of (75, 80, 85):\", average_marks(75, 80, 85))   # 80.0\n",
    "print(\"Average of (60, 70):\", average_marks(60, 70))           # 65.0\n",
    "print(\"Average of none:\", average_marks())                     # 0.0"
   ]
  },
  {
   "cell_type": "code",
   "execution_count": 54,
   "id": "986c6409",
   "metadata": {},
   "outputs": [
    {
     "name": "stdout",
     "output_type": "stream",
     "text": [
      "Avg of (10, 12, 11): 11.00\n",
      "Avg of (15.5, 16.0, 14.8, 17.2): 15.88\n",
      "Avg of no readings: 0.00\n"
     ]
    }
   ],
   "source": [
    "def calculate_average_readings(*readings):\n",
    "    \"\"\"\n",
    "    Calculates the average of an arbitrary number of sensor readings.\n",
    "    'readings' will be a tuple of all positional arguments passed.\n",
    "    \"\"\"\n",
    "    if not readings:\n",
    "        return 0.0\n",
    "    return sum(readings) / len(readings)\n",
    "\n",
    "print(f\"Avg of (10, 12, 11): {calculate_average_readings(10, 12, 11):.2f}\")\n",
    "print(f\"Avg of (15.5, 16.0, 14.8, 17.2): {calculate_average_readings(15.5, 16.0, 14.8, 17.2):.2f}\")\n",
    "print(f\"Avg of no readings: {calculate_average_readings():.2f}\")"
   ]
  },
  {
   "cell_type": "code",
   "execution_count": 55,
   "id": "834431f1",
   "metadata": {},
   "outputs": [
    {
     "name": "stdout",
     "output_type": "stream",
     "text": [
      "\n",
      "Feedback from: Rahul\n",
      "  - Loved the class\n",
      "  - Need more examples\n",
      "Mood: 😊\n",
      "\n",
      "Feedback from: Tina\n",
      "  No comments given.\n",
      "Mood: 😐\n",
      "\n",
      "Feedback from: Arun\n",
      "  - Good content\n",
      "Mood: 😄\n"
     ]
    }
   ],
   "source": [
    "# Flexible student feedback collector\n",
    "def feedback_form(student_name, *comments, mood=\"😊\"):\n",
    "    print(f\"\\nFeedback from: {student_name}\")\n",
    "    if comments:\n",
    "        for c in comments:\n",
    "            print(f\"  - {c}\")\n",
    "    else:\n",
    "        print(\"  No comments given.\")\n",
    "    print(f\"Mood: {mood}\")\n",
    "\n",
    "feedback_form(\"Rahul\", \"Loved the class\", \"Need more examples\")\n",
    "feedback_form(\"Tina\", mood=\"😐\")  # No comments\n",
    "feedback_form(\"Arun\", \"Good content\", mood=\"😄\")"
   ]
  },
  {
   "cell_type": "code",
   "execution_count": 56,
   "id": "4d999759",
   "metadata": {},
   "outputs": [
    {
     "name": "stdout",
     "output_type": "stream",
     "text": [
      "\n",
      "Processing stream: Telemetry_Channel_A\n",
      "  Received 4 data points. Average: 101.50 units\n",
      "\n",
      "Processing stream: Sensor_Status_Log\n",
      "  Received 3 data points. Non-numeric values present.\n",
      "  Raw values: ('OK', 'ERROR', 'OK')\n",
      "\n",
      "Processing stream: Empty_Stream\n",
      "  No data points received.\n",
      "\n",
      "Processing stream: Pressure_Stream\n",
      "  Received 3 data points. Average: 50.20 kPa\n"
     ]
    }
   ],
   "source": [
    "def process_data_stream(stream_name, *data_points, unit=\"units\"):\n",
    "    \"\"\"\n",
    "    Processes a named data stream with multiple data points.\n",
    "    \"\"\"\n",
    "    print(f\"\\nProcessing stream: {stream_name}\")\n",
    "    if data_points:\n",
    "        if all(isinstance(dp, (int, float)) for dp in data_points):\n",
    "            avg = sum(data_points) / len(data_points)\n",
    "            print(f\"  Received {len(data_points)} data points. Average: {avg:.2f} {unit}\")\n",
    "        else:\n",
    "            print(f\"  Received {len(data_points)} data points. Non-numeric values present.\")\n",
    "            print(f\"  Raw values: {data_points}\")\n",
    "    else:\n",
    "        print(\"  No data points received.\")\n",
    "\n",
    "process_data_stream(\"Telemetry_Channel_A\", 100, 102, 99, 105)\n",
    "process_data_stream(\"Sensor_Status_Log\", \"OK\", \"ERROR\", \"OK\") # Can take mixed types, but sum() would fail\n",
    "process_data_stream(\"Empty_Stream\")\n",
    "process_data_stream(\"Pressure_Stream\", 50.1, 50.2, 50.3, unit=\"kPa\")"
   ]
  },
  {
   "cell_type": "code",
   "execution_count": 57,
   "id": "edbf38c1",
   "metadata": {},
   "outputs": [
    {
     "name": "stdout",
     "output_type": "stream",
     "text": [
      "\n",
      "--- Feedback: SESSION REVIEW ---\n",
      "  Student: Anil\n",
      "  Topic: Functions\n",
      "  Rating: 4.5\n",
      "--------------------------\n",
      "\n",
      "--- Feedback: DOUBT ---\n",
      "  Student: Pooja\n",
      "  Question: What is *args?\n",
      "--------------------------\n",
      "\n",
      "--- Feedback: THANKS ---\n",
      "--------------------------\n"
     ]
    }
   ],
   "source": [
    "# Function to print flexible student feedback\n",
    "def give_feedback(feedback_type, **details):\n",
    "    print(f\"\\n--- Feedback: {feedback_type.upper()} ---\")\n",
    "    for key, value in details.items():\n",
    "        print(f\"  {key.replace('_', ' ').title()}: {value}\")\n",
    "    print(\"--------------------------\")\n",
    "\n",
    "give_feedback(\"Session Review\", student=\"Anil\", topic=\"Functions\", rating=4.5)\n",
    "give_feedback(\"Doubt\", student=\"Pooja\", question=\"What is *args?\")\n",
    "give_feedback(\"Thanks\")"
   ]
  },
  {
   "cell_type": "code",
   "execution_count": 58,
   "id": "18f188b8",
   "metadata": {},
   "outputs": [
    {
     "name": "stdout",
     "output_type": "stream",
     "text": [
      "\n",
      "--- Sensor Event: TEMPERATURE EXCEEDS THRESHOLD ---\n",
      "  Sensor Id: TS_007\n",
      "  Current Temp: 38.5\n",
      "  Threshold: 35.0\n",
      "  Unit: Celsius\n",
      "  Priority: High\n",
      "--------------------------\n",
      "\n",
      "--- Sensor Event: DEVICE STATUS UPDATE ---\n",
      "  Device Name: Actuator_Hydraulic\n",
      "  Status: Operational\n",
      "  Uptime Hours: 125.7\n",
      "--------------------------\n",
      "\n",
      "--- Sensor Event: SYSTEM IDLE ---\n",
      "--------------------------\n"
     ]
    }
   ],
   "source": [
    "def log_sensor_event(event_type, **details):\n",
    "    \"\"\"\n",
    "    Logs a sensor event with a type and arbitrary key-value details.\n",
    "    'details' will be a dictionary of all keyword arguments passed.\n",
    "    \"\"\"\n",
    "    print(f\"\\n--- Sensor Event: {event_type.upper()} ---\")\n",
    "    for key, value in details.items():\n",
    "        print(f\"  {key.replace('_', ' ').title()}: {value}\")\n",
    "    print(\"--------------------------\")\n",
    "\n",
    "log_sensor_event(\"Temperature Exceeds Threshold\",\n",
    "                 sensor_id=\"TS_007\",\n",
    "                 current_temp=38.5,\n",
    "                 threshold=35.0,\n",
    "                 unit=\"Celsius\",\n",
    "                 priority=\"High\")\n",
    "\n",
    "log_sensor_event(\"Device Status Update\",\n",
    "                 device_name=\"Actuator_Hydraulic\",\n",
    "                 status=\"Operational\",\n",
    "                 uptime_hours=125.7)\n",
    "\n",
    "# No extra keyword arguments\n",
    "log_sensor_event(\"System Idle\")\n"
   ]
  },
  {
   "cell_type": "code",
   "execution_count": 59,
   "id": "eaef23db",
   "metadata": {},
   "outputs": [
    {
     "name": "stdout",
     "output_type": "stream",
     "text": [
      "Name: Ravi\n",
      "Topic: Loops\n",
      "Comments: ('Nice', 'Too fast')\n",
      "Rating: 4\n",
      "Extras: {'email': 'ravi@example.com'}\n"
     ]
    }
   ],
   "source": [
    "def feedback_center(name, topic=\"Python\", *comments, rating, **extras):\n",
    "    print(f\"Name: {name}\")\n",
    "    print(f\"Topic: {topic}\")\n",
    "    print(f\"Comments: {comments}\")\n",
    "    print(f\"Rating: {rating}\")\n",
    "    print(f\"Extras: {extras}\")\n",
    "\n",
    "feedback_center(\"Ravi\", \"Loops\", \"Nice\", \"Too fast\", rating=4, email=\"ravi@example.com\")"
   ]
  },
  {
   "cell_type": "code",
   "execution_count": 60,
   "id": "87a2cdd1",
   "metadata": {},
   "outputs": [
    {
     "name": "stdout",
     "output_type": "stream",
     "text": [
      "param1: 10\n",
      "param2 (default): value2\n",
      "args: (1, 2, 3)\n",
      "kw_only_param (keyword-only): required\n",
      "kwargs: {'extra_info': 'test', 'id': 123}\n"
     ]
    }
   ],
   "source": [
    "def flexible_api(param1, param2=\"default\", *args, kw_only_param, **kwargs):\n",
    "    print(f\"param1: {param1}\")\n",
    "    print(f\"param2 (default): {param2}\")\n",
    "    print(f\"args: {args}\")  # A tuple\n",
    "    print(f\"kw_only_param (keyword-only): {kw_only_param}\")\n",
    "    print(f\"kwargs: {kwargs}\")  # A dictionary\n",
    "\n",
    "# Example call\n",
    "flexible_api(10, \"value2\", 1, 2, 3, kw_only_param=\"required\", extra_info=\"test\", id=123)\n",
    "# Note: kw_only_param MUST be passed as a keyword argument because it's after *args\n"
   ]
  },
  {
   "cell_type": "code",
   "execution_count": 61,
   "id": "929adebc",
   "metadata": {},
   "outputs": [
    {
     "name": "stdout",
     "output_type": "stream",
     "text": [
      "Calculates speed as distance divided by time.\n",
      "Speed: 50.0 km/h\n"
     ]
    }
   ],
   "source": [
    "def speed(distance_km, time_hr):\n",
    "    \"\"\"Calculates speed as distance divided by time.\"\"\"\n",
    "    return distance_km / time_hr\n",
    "\n",
    "print(speed.__doc__)  # Show the docstring\n",
    "print(\"Speed:\", speed(100, 2), \"km/h\")  # 100 km in 2 hours = 50 km/h"
   ]
  },
  {
   "cell_type": "code",
   "execution_count": 62,
   "id": "f8460ea0",
   "metadata": {},
   "outputs": [
    {
     "name": "stdout",
     "output_type": "stream",
     "text": [
      "\n",
      "Calculates the orbital velocity of a satellite around a central body.\n",
      "\n",
      "This function uses the formula for circular orbital velocity:\n",
      "v = sqrt(G * M / r)\n",
      "where G is the gravitational constant, M is the mass of the central body,\n",
      "and r is the orbital radius.\n",
      "\n",
      "Args:\n",
      "    radius_km (float): The orbital radius in kilometers.\n",
      "    mass_of_body_kg (float): The mass of the central body in kilograms.\n",
      "\n",
      "Returns:\n",
      "    float: The orbital velocity in kilometers per second (km/s).\n",
      "\n",
      "\n",
      "ISS orbital velocity: 7.67 km/s\n"
     ]
    }
   ],
   "source": [
    "def compute_orbital_velocity(radius_km: float, mass_of_body_kg: float) -> float:\n",
    "    \"\"\"\n",
    "    Calculates the orbital velocity of a satellite around a central body.\n",
    "\n",
    "    This function uses the formula for circular orbital velocity:\n",
    "    v = sqrt(G * M / r)\n",
    "    where G is the gravitational constant, M is the mass of the central body,\n",
    "    and r is the orbital radius.\n",
    "\n",
    "    Args:\n",
    "        radius_km (float): The orbital radius in kilometers.\n",
    "        mass_of_body_kg (float): The mass of the central body in kilograms.\n",
    "\n",
    "    Returns:\n",
    "        float: The orbital velocity in kilometers per second (km/s).\n",
    "    \"\"\"\n",
    "    GRAVITATIONAL_CONSTANT = 6.67430e-11 # N(m/kg)^2 or m^3/(kg s^2)\n",
    "    radius_m = radius_km * 1000 # Convert km to meters\n",
    "\n",
    "    # Velocity in m/s\n",
    "    velocity_mps = (GRAVITATIONAL_CONSTANT * mass_of_body_kg / radius_m)**0.5\n",
    "    return velocity_mps / 1000 # Convert m/s to km/s\n",
    "\n",
    "# Accessing the docstring\n",
    "print(compute_orbital_velocity.__doc__)\n",
    "\n",
    "# Example Usage\n",
    "earth_radius_km = 6371 # Average radius of Earth\n",
    "earth_mass_kg = 5.972e24 # Mass of Earth\n",
    "orbit_altitude_km = 400 # International Space Station altitude\n",
    "orbital_radius_iss_km = earth_radius_km + orbit_altitude_km\n",
    "\n",
    "iss_velocity = compute_orbital_velocity(orbital_radius_iss_km, earth_mass_kg)\n",
    "print(f\"\\nISS orbital velocity: {iss_velocity:.2f} km/s\")\n"
   ]
  },
  {
   "cell_type": "code",
   "execution_count": 63,
   "id": "6a2dbf4a",
   "metadata": {},
   "outputs": [
    {
     "name": "stdout",
     "output_type": "stream",
     "text": [
      "Result: 70 95 Too High\n"
     ]
    }
   ],
   "source": [
    "def check_scores(name: str, scores: list, limits: dict = None) -> tuple:\n",
    "    if not scores:\n",
    "        return 0, 0, \"No Scores\"\n",
    "    min_s = min(scores)\n",
    "    max_s = max(scores)\n",
    "    status = \"Okay\"\n",
    "    if limits and max_s > limits.get(\"high\", float('inf')):\n",
    "        status = \"Too High\"\n",
    "    return min_s, max_s, status\n",
    "\n",
    "low, high, remark = check_scores(\"Arun\", [70, 85, 95], {\"high\": 90})\n",
    "print(\"Result:\", low, high, remark)"
   ]
  },
  {
   "cell_type": "code",
   "execution_count": 64,
   "id": "cf5dcfcb",
   "metadata": {},
   "outputs": [
    {
     "name": "stdout",
     "output_type": "stream",
     "text": [
      "\n",
      "Temp Sensor Analysis: Min=21.9, Max=24.0, Status='High Alert'\n",
      "Pressure Sensor Analysis: Min=98.7, Max=102.5, Status='Normal'\n"
     ]
    }
   ],
   "source": [
    "from typing import List, Tuple, Dict, Union, Optional\n",
    "\n",
    "\n",
    "def analyze_sensor_readings(\n",
    "    sensor_id: str,\n",
    "    readings: List[float],\n",
    "    threshold_info: Optional[Dict[str, float]] = None\n",
    ") -> Tuple[float, float, str]:\n",
    "    \"\"\"\n",
    "    Analyzes a list of sensor readings and determines a status.\n",
    "\n",
    "    Args:\n",
    "        sensor_id: Unique identifier for the sensor.\n",
    "        readings: A list of floating-point sensor readings.\n",
    "        threshold_info: Optional dictionary containing 'high' and 'low' thresholds.\n",
    "\n",
    "    Returns:\n",
    "        A tuple containing: (min_reading, max_reading, status_message).\n",
    "    \"\"\"\n",
    "    if not readings:\n",
    "        return 0.0, 0.0, \"No readings\"\n",
    "\n",
    "    min_val = min(readings)\n",
    "    max_val = max(readings)\n",
    "    status = \"Normal\"\n",
    "\n",
    "    if threshold_info:\n",
    "        high_threshold = threshold_info.get(\"high\")\n",
    "        low_threshold = threshold_info.get(\"low\")\n",
    "\n",
    "        if high_threshold is not None and max_val > high_threshold:\n",
    "            status = \"High Alert\"\n",
    "        elif low_threshold is not None and min_val < low_threshold:\n",
    "            status = \"Low Warning\"\n",
    "\n",
    "    return min_val, max_val, status\n",
    "\n",
    "\n",
    "# Example usage with type hints\n",
    "temp_data: List[float] = [22.5, 23.1, 21.9, 24.0, 22.8]\n",
    "temp_thresholds: Dict[str, float] = {\"high\": 23.5, \"low\": 20.0}\n",
    "\n",
    "min_t, max_t, status_t = analyze_sensor_readings(\"Temp001\", temp_data, temp_thresholds)\n",
    "print(f\"\\nTemp Sensor Analysis: Min={min_t}, Max={max_t}, Status='{status_t}'\")\n",
    "\n",
    "pressure_data: List[float] = [100.1, 102.5, 98.7, 101.5]\n",
    "\n",
    "# Calling without optional thresholds\n",
    "min_p, max_p, status_p = analyze_sensor_readings(\"Pres002\", pressure_data)\n",
    "print(f\"Pressure Sensor Analysis: Min={min_p}, Max={max_p}, Status='{status_p}'\")\n",
    "\n"
   ]
  },
  {
   "cell_type": "code",
   "execution_count": 65,
   "id": "f9ef5529",
   "metadata": {},
   "outputs": [],
   "source": [
    "# All-in-one giant function (hard to maintain)\n",
    "def full_process(data):\n",
    "    print(\"Process everything inside this one giant block!\")"
   ]
  },
  {
   "cell_type": "code",
   "execution_count": 66,
   "id": "5c3c2cd8",
   "metadata": {},
   "outputs": [
    {
     "name": "stdout",
     "output_type": "stream",
     "text": [
      "Step 1 done\n",
      "Step 2 done\n"
     ]
    }
   ],
   "source": [
    "# Small, reusable parts\n",
    "def step1():\n",
    "    print(\"Step 1 done\")\n",
    "def step2():\n",
    "    print(\"Step 2 done\")\n",
    "def full_process():\n",
    "    step1()\n",
    "    step2()\n",
    "\n",
    "full_process()"
   ]
  },
  {
   "cell_type": "code",
   "execution_count": 67,
   "id": "58e23c8f",
   "metadata": {},
   "outputs": [
    {
     "name": "stdout",
     "output_type": "stream",
     "text": [
      "\n",
      "--- Monolithic Telemetry Processing ---\n",
      "[2025-06-21T10:00:00] Sensor: Temp, Value: 25.50, Status: OK\n",
      "[2025-06-21T10:00:01] Sensor: Pres, Value: 101.20, Status: OK\n",
      "WARNING: Value 1050.0 out of range for Hum.\n",
      "ERROR: Data conversion failed: could not convert string to float: 'invalid'\n"
     ]
    }
   ],
   "source": [
    "# This is a conceptual example of a monolithic function.\n",
    "# In a real scenario, it would be much longer and harder to manage.\n",
    "\n",
    "def process_telemetry_monolithic(raw_data_string):\n",
    "    # 1. Parse data string\n",
    "    parts = raw_data_string.strip().split(',')\n",
    "    if len(parts) != 4:\n",
    "        print(\"ERROR: Invalid data format.\")\n",
    "        return\n",
    "\n",
    "    try:\n",
    "        timestamp = parts[0]\n",
    "        sensor_type = parts[1]\n",
    "        value_str = parts[2]\n",
    "        status_code_str = parts[3]\n",
    "\n",
    "        # 2. Validate and Convert\n",
    "        value = float(value_str)\n",
    "        status_code = int(status_code_str)\n",
    "\n",
    "        if value < 0 or value > 1000:\n",
    "            print(f\"WARNING: Value {value} out of range for {sensor_type}.\")\n",
    "            return\n",
    "\n",
    "        # 3. Apply business logic/classification\n",
    "        if status_code == 0:\n",
    "            status_desc = \"OK\"\n",
    "        elif status_code == 1:\n",
    "            status_desc = \"WARNING\"\n",
    "        elif status_code == 2:\n",
    "            status_desc = \"ERROR\"\n",
    "        else:\n",
    "            status_desc = \"UNKNOWN_STATUS\"\n",
    "\n",
    "        # 4. Log results\n",
    "        print(f\"[{timestamp}] Sensor: {sensor_type}, Value: {value:.2f}, Status: {status_desc}\")\n",
    "\n",
    "    except ValueError as e:\n",
    "        print(f\"ERROR: Data conversion failed: {e}\")\n",
    "\n",
    "\n",
    "print(\"\\n--- Monolithic Telemetry Processing ---\")\n",
    "process_telemetry_monolithic(\"2025-06-21T10:00:00,Temp,25.5,0\")\n",
    "process_telemetry_monolithic(\"2025-06-21T10:00:01,Pres,101.2,0\")\n",
    "process_telemetry_monolithic(\"2025-06-21T10:00:02,Hum,1050,1\")       # Out of range value\n",
    "process_telemetry_monolithic(\"2025-06-21T10:00:03,Volt,invalid,0\")   # Invalid data type\n"
   ]
  },
  {
   "cell_type": "code",
   "execution_count": 68,
   "id": "7f5afe76",
   "metadata": {},
   "outputs": [
    {
     "name": "stdout",
     "output_type": "stream",
     "text": [
      "\n",
      "--- Modular Telemetry Processing ---\n",
      "[2025-06-21T10:00:00] Sensor: Temp, Value: 25.50, Status: OK\n",
      "[2025-06-21T10:00:01] Sensor: Pres, Value: 101.20, Status: OK\n",
      "WARNING: Value 1050.0 out of defined range for Hum.\n",
      "ERROR: Data conversion failed for {'timestamp': '2025-06-21T10:00:03', 'sensor_type': 'Volt', 'value_str': 'invalid', 'status_code_str': '0'}: could not convert string to float: 'invalid'\n",
      "ERROR: Invalid format for raw data: '2025-06-21T10:00:04,Flow,12.3' (Expected 4 parts, got 3)\n"
     ]
    }
   ],
   "source": [
    "def parse_telemetry_string(raw_data_string: str) -> Optional[Dict[str, str]]:\n",
    "    \"\"\"Parses a raw telemetry string into a dictionary of string parts.\"\"\"\n",
    "    parts = raw_data_string.strip().split(',')\n",
    "    if len(parts) != 4:\n",
    "        print(f\"ERROR: Invalid format for raw data: '{raw_data_string}' (Expected 4 parts, got {len(parts)})\")\n",
    "        return None\n",
    "\n",
    "    return {\n",
    "        \"timestamp\": parts[0],\n",
    "        \"sensor_type\": parts[1],\n",
    "        \"value_str\": parts[2],\n",
    "        \"status_code_str\": parts[3]\n",
    "    }\n",
    "\n",
    "\n",
    "def validate_and_convert_telemetry(parsed_data: Dict[str, str]) -> Optional[Dict[str, Union[str, float, int]]]:\n",
    "    \"\"\"Validates and converts telemetry data types.\"\"\"\n",
    "    try:\n",
    "        value = float(parsed_data[\"value_str\"])\n",
    "        status_code = int(parsed_data[\"status_code_str\"])\n",
    "\n",
    "        if not (0 <= value <= 1000):  # Assuming a general valid range for sensor values\n",
    "            print(f\"WARNING: Value {value} out of defined range for {parsed_data['sensor_type']}.\")\n",
    "            return None  # Indicate invalid conversion\n",
    "\n",
    "        return {\n",
    "            \"timestamp\": parsed_data[\"timestamp\"],\n",
    "            \"sensor_type\": parsed_data[\"sensor_type\"],\n",
    "            \"value\": value,\n",
    "            \"status_code\": status_code\n",
    "        }\n",
    "\n",
    "    except ValueError as e:\n",
    "        print(f\"ERROR: Data conversion failed for {parsed_data}: {e}\")\n",
    "        return None\n",
    "\n",
    "\n",
    "def classify_telemetry_status(status_code: int) -> str:\n",
    "    \"\"\"Classifies a numerical status code into a human-readable string.\"\"\"\n",
    "    if status_code == 0:\n",
    "        return \"OK\"\n",
    "    elif status_code == 1:\n",
    "        return \"WARNING\"\n",
    "    elif status_code == 2:\n",
    "        return \"ERROR\"\n",
    "    else:\n",
    "        return \"UNKNOWN_STATUS\"\n",
    "\n",
    "\n",
    "def log_processed_telemetry(processed_data: Dict[str, Union[str, float, int]], status_desc: str) -> None:\n",
    "    \"\"\"Logs the final processed telemetry data.\"\"\"\n",
    "    print(f\"[{processed_data['timestamp']}] Sensor: {processed_data['sensor_type']}, \"\n",
    "          f\"Value: {processed_data['value']:.2f}, Status: {status_desc}\")\n",
    "\n",
    "\n",
    "def process_telemetry_modular(raw_data_string: str) -> None:\n",
    "    \"\"\"Orchestrates the modular processing of a single telemetry data string.\"\"\"\n",
    "    parsed = parse_telemetry_string(raw_data_string)\n",
    "    if parsed is None:\n",
    "        return  # Stop if parsing failed\n",
    "\n",
    "    converted = validate_and_convert_telemetry(parsed)\n",
    "    if converted is None:\n",
    "        return  # Stop if validation/conversion failed\n",
    "\n",
    "    status_desc = classify_telemetry_status(converted[\"status_code\"])\n",
    "    log_processed_telemetry(converted, status_desc)\n",
    "\n",
    "\n",
    "print(\"\\n--- Modular Telemetry Processing ---\")\n",
    "process_telemetry_modular(\"2025-06-21T10:00:00,Temp,25.5,0\")\n",
    "process_telemetry_modular(\"2025-06-21T10:00:01,Pres,101.2,0\")\n",
    "process_telemetry_modular(\"2025-06-21T10:00:02,Hum,1050,1\")       # Out of range value handled by validation\n",
    "process_telemetry_modular(\"2025-06-21T10:00:03,Volt,invalid,0\")   # Invalid data type handled by conversion\n",
    "process_telemetry_modular(\"2025-06-21T10:00:04,Flow,12.3\")        # Incorrect number of parts\n"
   ]
  },
  {
   "cell_type": "code",
   "execution_count": 69,
   "id": "198b4585",
   "metadata": {},
   "outputs": [
    {
     "name": "stdout",
     "output_type": "stream",
     "text": [
      "Temps in F: [32.0, 50.0, 68.0]\n"
     ]
    }
   ],
   "source": [
    "temps_c = [0, 10, 20]\n",
    "temps_f = list(map(lambda c: (c * 9/5) + 32, temps_c))\n",
    "print(\"Temps in F:\", temps_f)"
   ]
  },
  {
   "cell_type": "code",
   "execution_count": 70,
   "id": "92ad5952",
   "metadata": {},
   "outputs": [
    {
     "name": "stdout",
     "output_type": "stream",
     "text": [
      "Fahrenheit (for loop): [68.0, 77.0, 86.0, 95.0]\n",
      "Fahrenheit (map): [68.0, 77.0, 86.0, 95.0]\n",
      "Squared numbers: [1, 4, 9, 16, 25]\n"
     ]
    }
   ],
   "source": [
    "# Scenario: Convert a list of temperatures from Celsius to Fahrenheit\n",
    "\n",
    "def celsius_to_fahrenheit(celsius_temp: float) -> float:\n",
    "    \"\"\"Converts Celsius to Fahrenheit.\"\"\"\n",
    "    return (celsius_temp * 9 / 5) + 32\n",
    "\n",
    "\n",
    "celsius_readings = [20.0, 25.0, 30.0, 35.0]\n",
    "\n",
    "# Using a for loop (traditional)\n",
    "fahrenheit_for_loop = []\n",
    "for temp_c in celsius_readings:\n",
    "    fahrenheit_for_loop.append(celsius_to_fahrenheit(temp_c))\n",
    "print(f\"Fahrenheit (for loop): {fahrenheit_for_loop}\")\n",
    "\n",
    "# Using map (functional approach)\n",
    "fahrenheit_map = list(map(celsius_to_fahrenheit, celsius_readings))\n",
    "print(f\"Fahrenheit (map): {fahrenheit_map}\")\n",
    "\n",
    "# Applying a lambda function (anonymous function) with map\n",
    "# Scenario: Square each element\n",
    "numbers = [1, 2, 3, 4, 5]\n",
    "squared_numbers = list(map(lambda x: x ** 2, numbers))\n",
    "print(f\"Squared numbers: {squared_numbers}\")\n"
   ]
  },
  {
   "cell_type": "code",
   "execution_count": 71,
   "id": "3ba77f47",
   "metadata": {},
   "outputs": [
    {
     "name": "stdout",
     "output_type": "stream",
     "text": [
      "Passed: [75, 90]\n"
     ]
    }
   ],
   "source": [
    "marks = [32, 75, 28, 90]\n",
    "passed = list(filter(lambda x: x >= 35, marks))\n",
    "print(\"Passed:\", passed)"
   ]
  },
  {
   "cell_type": "code",
   "execution_count": 72,
   "id": "d2647782",
   "metadata": {},
   "outputs": [
    {
     "name": "stdout",
     "output_type": "stream",
     "text": [
      "Operational readings (for loop): [12.0, 15.0, 10.1]\n",
      "Operational readings (filter): [12.0, 15.0, 10.1]\n",
      "Known error codes in list: [101, 205, 404]\n"
     ]
    }
   ],
   "source": [
    "# Scenario: Filter out sensor readings below a minimum operational threshold\n",
    "\n",
    "def is_operational(reading: float, min_threshold: float = 10.0) -> bool:\n",
    "    \"\"\"Checks if a sensor reading is above the minimum operational threshold.\"\"\"\n",
    "    return reading >= min_threshold\n",
    "\n",
    "\n",
    "all_readings = [8.5, 12.0, 9.9, 15.0, 7.0, 10.1]\n",
    "MIN_OPERATIONAL_THRESHOLD = 10.0\n",
    "\n",
    "# Using a for loop (traditional)\n",
    "operational_for_loop = []\n",
    "for reading in all_readings:\n",
    "    if is_operational(reading, MIN_OPERATIONAL_THRESHOLD):\n",
    "        operational_for_loop.append(reading)\n",
    "print(f\"Operational readings (for loop): {operational_for_loop}\")\n",
    "\n",
    "# Using filter (functional approach)\n",
    "# Note: filter expects a function that returns a boolean\n",
    "operational_filter = list(filter(lambda r: is_operational(r, MIN_OPERATIONAL_THRESHOLD), all_readings))\n",
    "print(f\"Operational readings (filter): {operational_filter}\")\n",
    "\n",
    "# Filtering out error codes (using previous classification logic)\n",
    "error_codes_present = [101, 0, 205, 999, 404]\n",
    "error_code_info_map = {\n",
    "    101: \"Sensor calibration required.\",\n",
    "    205: \"Power supply low.\",\n",
    "    404: \"Software module not found.\"\n",
    "}\n",
    "\n",
    "def is_known_error(code: int, known_errors: Dict[int, str]) -> bool:\n",
    "    \"\"\"Checks if an error code is present in the known errors map.\"\"\"\n",
    "    return code in known_errors\n",
    "\n",
    "\n",
    "known_errors_filter = list(filter(lambda code: is_known_error(code, error_code_info_map), error_codes_present))\n",
    "print(f\"Known error codes in list: {known_errors_filter}\")\n"
   ]
  },
  {
   "cell_type": "code",
   "execution_count": 73,
   "id": "bc9a4f0e",
   "metadata": {},
   "outputs": [
    {
     "name": "stdout",
     "output_type": "stream",
     "text": [
      "Product: 24\n"
     ]
    }
   ],
   "source": [
    "from functools import reduce\n",
    "nums = [2, 3, 4]\n",
    "product = reduce(lambda x, y: x * y, nums)\n",
    "print(\"Product:\", product)"
   ]
  },
  {
   "cell_type": "code",
   "execution_count": 74,
   "id": "6681073d",
   "metadata": {},
   "outputs": [
    {
     "name": "stdout",
     "output_type": "stream",
     "text": [
      "Total gain (for loop): 1.58\n",
      "Total gain (reduce): 1.58\n",
      "Sum of numbers (reduce): 15\n",
      "Product with initializer: 240\n"
     ]
    }
   ],
   "source": [
    "from functools import reduce\n",
    "\n",
    "# Scenario: Calculate the product of a list of values (e.g., gains in a signal chain)\n",
    "\n",
    "def multiply(x, y):\n",
    "    \"\"\"Multiplies two numbers.\"\"\"\n",
    "    return x * y\n",
    "\n",
    "\n",
    "gains = [1.2, 1.5, 0.8, 1.1]\n",
    "\n",
    "# Using a for loop (traditional)\n",
    "total_gain_for_loop = 1\n",
    "for gain in gains:\n",
    "    total_gain_for_loop *= gain\n",
    "print(f\"Total gain (for loop): {total_gain_for_loop:.2f}\")\n",
    "\n",
    "# Using reduce (functional approach)\n",
    "total_gain_reduce = reduce(multiply, gains)\n",
    "print(f\"Total gain (reduce): {total_gain_reduce:.2f}\")\n",
    "\n",
    "# Example: Sum of elements (reduce can do what sum() does)\n",
    "sum_of_numbers = reduce(lambda x, y: x + y, [1, 2, 3, 4, 5])\n",
    "print(f\"Sum of numbers (reduce): {sum_of_numbers}\")\n",
    "\n",
    "# Using an initializer (starting value)\n",
    "product_with_initial = reduce(multiply, [2, 3, 4], 10)  # 10 * 2 * 3 * 4\n",
    "print(f\"Product with initializer: {product_with_initial}\")\n"
   ]
  },
  {
   "cell_type": "code",
   "execution_count": 75,
   "id": "2ff40add",
   "metadata": {},
   "outputs": [
    {
     "name": "stdout",
     "output_type": "stream",
     "text": [
      "Hello Teacher Anita!\n"
     ]
    }
   ],
   "source": [
    "from functools import partial\n",
    "\n",
    "def greet(role, name):\n",
    "    print(f\"Hello {role} {name}!\")\n",
    "\n",
    "teacher_greet = partial(greet, \"Teacher\")\n",
    "teacher_greet(\"Anita\")  # \"Hello Teacher Anita!\""
   ]
  },
  {
   "cell_type": "code",
   "execution_count": 76,
   "id": "f8173db3",
   "metadata": {},
   "outputs": [
    {
     "name": "stdout",
     "output_type": "stream",
     "text": [
      "[2025-06-24 05:20:10] INFO: Telemetry system online.\n",
      "[2025-06-24 05:20:10] WARNING: Low disk space detected on log server.\n",
      "[2025-06-24 05:20:10] ERROR: Critical sensor failure in module B.\n",
      "\n",
      "Checking operational temperatures:\n",
      "  Temperature 5.0°C: Out of Range\n",
      "  Temperature 15.0°C: Operational\n",
      "  Temperature 25.0°C: Operational\n",
      "  Temperature 35.0°C: Out of Range\n"
     ]
    }
   ],
   "source": [
    "from functools import partial\n",
    "import datetime\n",
    "\n",
    "# Scenario: Create specialized logging functions for different priority levels\n",
    "\n",
    "def generic_log(level: str, message: str, timestamp: str) -> None:\n",
    "    \"\"\"A generic logging function.\"\"\"\n",
    "    print(f\"[{timestamp}] {level.upper()}: {message}\")\n",
    "\n",
    "\n",
    "# Create specialized loggers using partial\n",
    "info_logger = partial(\n",
    "    generic_log,\n",
    "    \"INFO\",\n",
    "    timestamp=datetime.datetime.now().strftime(\"%Y-%m-%d %H:%M:%S\")\n",
    ")\n",
    "\n",
    "warning_logger = partial(\n",
    "    generic_log,\n",
    "    \"WARNING\",\n",
    "    timestamp=datetime.datetime.now().strftime(\"%Y-%m-%d %H:%M:%S\")\n",
    ")\n",
    "\n",
    "error_logger = partial(\n",
    "    generic_log,\n",
    "    \"ERROR\",\n",
    "    timestamp=datetime.datetime.now().strftime(\"%Y-%m-%d %H:%M:%S\")\n",
    ")\n",
    "\n",
    "info_logger(message=\"Telemetry system online.\")\n",
    "warning_logger(message=\"Low disk space detected on log server.\")\n",
    "error_logger(message=\"Critical sensor failure in module B.\")\n",
    "\n",
    "\n",
    "# Scenario: Create a specialized filter for a specific threshold\n",
    "\n",
    "def check_threshold(value: float, lower_bound: float, upper_bound: float) -> bool:\n",
    "    \"\"\"Checks if a value is within a specified range.\"\"\"\n",
    "    return lower_bound <= value <= upper_bound\n",
    "\n",
    "\n",
    "# Create a specific range checker for operational temperatures\n",
    "is_operational_temp = partial(check_threshold, lower_bound=10.0, upper_bound=30.0)\n",
    "\n",
    "test_temps = [5.0, 15.0, 25.0, 35.0]\n",
    "print(\"\\nChecking operational temperatures:\")\n",
    "for temp in test_temps:\n",
    "    status = \"Operational\" if is_operational_temp(temp) else \"Out of Range\"\n",
    "    print(f\"  Temperature {temp}°C: {status}\")\n"
   ]
  },
  {
   "cell_type": "code",
   "execution_count": null,
   "id": "397cb1c9",
   "metadata": {},
   "outputs": [],
   "source": []
  }
 ],
 "metadata": {
  "kernelspec": {
   "display_name": "urscenv",
   "language": "python",
   "name": "python3"
  },
  "language_info": {
   "codemirror_mode": {
    "name": "ipython",
    "version": 3
   },
   "file_extension": ".py",
   "mimetype": "text/x-python",
   "name": "python",
   "nbconvert_exporter": "python",
   "pygments_lexer": "ipython3",
   "version": "3.13.5"
  }
 },
 "nbformat": 4,
 "nbformat_minor": 5
}
