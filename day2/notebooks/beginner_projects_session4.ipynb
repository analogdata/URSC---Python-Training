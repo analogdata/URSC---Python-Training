{
 "cells": [
  {
   "cell_type": "markdown",
   "id": "6ce6add8",
   "metadata": {},
   "source": [
    "## 🌱 Beginner-Friendly Projects Based on Day 2 Session 4\n",
    "\n",
    "This notebook includes simplified, beginner-friendly versions of the original labs, designed to introduce decorators, closures, and modular functions step-by-step."
   ]
  },
  {
   "cell_type": "markdown",
   "id": "8b19d693",
   "metadata": {},
   "source": [
    "### ✅ Project 1: Timing a Homework Task\n",
    "Learn to create a decorator that tells you how long a task (like doing homework) takes."
   ]
  },
  {
   "cell_type": "code",
   "execution_count": 2,
   "id": "eedf3983",
   "metadata": {},
   "outputs": [
    {
     "name": "stdout",
     "output_type": "stream",
     "text": [
      "📝 Working on 3 pages of homework...\n",
      "✅ Homework done!\n",
      "⏱️ Task 'do_homework' took 0.60 seconds.\n"
     ]
    },
    {
     "data": {
      "text/plain": [
       "3"
      ]
     },
     "execution_count": 2,
     "metadata": {},
     "output_type": "execute_result"
    }
   ],
   "source": [
    "import time\n",
    "from functools import wraps\n",
    "\n",
    "def time_my_task(func):\n",
    "    @wraps(func)\n",
    "    def wrapper(*args, **kwargs):\n",
    "        start = time.time()\n",
    "        result = func(*args, **kwargs)\n",
    "        end = time.time()\n",
    "        print(f\"⏱️ Task '{func.__name__}' took {end - start:.2f} seconds.\")\n",
    "        return result\n",
    "    return wrapper\n",
    "\n",
    "@time_my_task\n",
    "def do_homework(pages):\n",
    "    print(f\"📝 Working on {pages} pages of homework...\")\n",
    "    time.sleep(pages * 0.2)\n",
    "    print(\"✅ Homework done!\")\n",
    "    return pages\n",
    "\n",
    "do_homework(3)"
   ]
  },
  {
   "cell_type": "markdown",
   "id": "991bfc66",
   "metadata": {},
   "source": [
    "## ✅ Project 2: Personalized Greeting with Closures\n",
    "Build a greeting function that remembers your name and greeting style."
   ]
  },
  {
   "cell_type": "code",
   "execution_count": 3,
   "id": "318a3377",
   "metadata": {},
   "outputs": [
    {
     "name": "stdout",
     "output_type": "stream",
     "text": [
      "Hello, Raj!\n",
      "Hi, Lina!\n"
     ]
    }
   ],
   "source": [
    "def make_greeter(name, style=\"Hello\"):\n",
    "    def greet():\n",
    "        print(f\"{style}, {name}!\")\n",
    "    return greet\n",
    "\n",
    "greet_raj = make_greeter(\"Raj\")\n",
    "greet_lina = make_greeter(\"Lina\", style=\"Hi\")\n",
    "\n",
    "greet_raj()\n",
    "greet_lina()"
   ]
  },
  {
   "cell_type": "markdown",
   "id": "01e049da",
   "metadata": {},
   "source": [
    "## ✅ Project 3: Modular Plant Watering Logger\n",
    "A simple simulated logger to record when and how much you water your plant."
   ]
  },
  {
   "cell_type": "code",
   "execution_count": 4,
   "id": "c6faf8ba",
   "metadata": {},
   "outputs": [
    {
     "name": "stdout",
     "output_type": "stream",
     "text": [
      "[05:48:07] Watered: 85.08ml — Status: OK\n",
      "[05:48:08] Watered: 145.08ml — Status: INVALID_TOO_MUCH\n",
      "[05:48:09] Watered: 133.08ml — Status: INVALID_TOO_MUCH\n",
      "[05:48:10] Watered: 96.73ml — Status: OK\n",
      "[05:48:11] Watered: 117.95ml — Status: OK\n"
     ]
    }
   ],
   "source": [
    "import random\n",
    "import datetime\n",
    "import time\n",
    "\n",
    "def get_water_amount():\n",
    "    return round(random.uniform(50, 150), 2)\n",
    "\n",
    "def is_amount_valid(amount, min_ml=60, max_ml=120):\n",
    "    if amount < min_ml:\n",
    "        return False, \"TOO_LESS\"\n",
    "    elif amount > max_ml:\n",
    "        return False, \"TOO_MUCH\"\n",
    "    return True, \"OK\"\n",
    "\n",
    "def format_log(timestamp, amount, status):\n",
    "    return f\"[{timestamp}] Watered: {amount}ml — Status: {status}\"\n",
    "\n",
    "def write_log(entry):\n",
    "    print(entry)\n",
    "\n",
    "def run_watering_logger(cycles=5, interval=1.0):\n",
    "    for _ in range(cycles):\n",
    "        now = datetime.datetime.now().strftime(\"%H:%M:%S\")\n",
    "        amount = get_water_amount()\n",
    "        valid, status = is_amount_valid(amount)\n",
    "        log = format_log(now, amount, \"INVALID_\" + status if not valid else status)\n",
    "        write_log(log)\n",
    "        time.sleep(interval)\n",
    "\n",
    "run_watering_logger()"
   ]
  }
 ],
 "metadata": {
  "kernelspec": {
   "display_name": "urscenv",
   "language": "python",
   "name": "python3"
  },
  "language_info": {
   "codemirror_mode": {
    "name": "ipython",
    "version": 3
   },
   "file_extension": ".py",
   "mimetype": "text/x-python",
   "name": "python",
   "nbconvert_exporter": "python",
   "pygments_lexer": "ipython3",
   "version": "3.13.5"
  }
 },
 "nbformat": 4,
 "nbformat_minor": 5
}
