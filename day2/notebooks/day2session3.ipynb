{
 "cells": [
  {
   "cell_type": "markdown",
   "id": "c7617698",
   "metadata": {},
   "source": [
    "## Day 2 Session 3\n",
    "\n",
    "It Consist's of all the programs from Day 2 Session 3."
   ]
  },
  {
   "cell_type": "code",
   "execution_count": 9,
   "id": "c69cb1a3",
   "metadata": {},
   "outputs": [
    {
     "name": "stdout",
     "output_type": "stream",
     "text": [
      "--- Running as main script ---\n",
      "Hi Rajath, welcome to Python!\n",
      "Status Report: OK\n",
      "Script finished.\n"
     ]
    }
   ],
   "source": [
    "# Imagine this is your project: tool.py\n",
    "\n",
    "def greet(name):\n",
    "    print(f\"Hi {name}, welcome to Python!\")\n",
    "\n",
    "def report(status):\n",
    "    print(\"Status Report:\", \"OK\" if status else \"Check Again\")\n",
    "\n",
    "# This part runs ONLY when file is run directly\n",
    "if __name__ == \"__main__\":\n",
    "    print(\"--- Running as main script ---\")\n",
    "    student = input(\"Enter your name: \")\n",
    "    greet(student)\n",
    "    report(True)\n",
    "    print(\"Script finished.\")\n",
    "else:\n",
    "    print(\"Module imported somewhere else.\")"
   ]
  },
  {
   "cell_type": "code",
   "execution_count": 14,
   "id": "c2baa05e",
   "metadata": {},
   "outputs": [
    {
     "name": "stdout",
     "output_type": "stream",
     "text": [
      "--- Running Diagnostic Tool as a Script ---\n",
      "Running diagnostics for device: XYZ_123...\n",
      "  XYZ device diagnostics complete: All systems nominal.\n",
      "Report for XYZ_123: Status - Success.\n",
      "Script execution finished.\n"
     ]
    }
   ],
   "source": [
    "# --- Content of a hypothetical diagnostic_tool.py file ---\n",
    "\n",
    "def run_diagnostics(device_id):\n",
    "    \"\"\"Performs diagnostic checks for a given device.\"\"\"\n",
    "    print(f\"Running diagnostics for device: {device_id}...\")\n",
    "    # Simulate some checks\n",
    "    if device_id.startswith(\"XYZ\"):\n",
    "        print(\"  XYZ device diagnostics complete: All systems nominal.\")\n",
    "        return True\n",
    "    else:\n",
    "        print(\"  Non-XYZ device detected: Basic health check performed.\")\n",
    "        return False\n",
    "\n",
    "\n",
    "def generate_report(device_id, status):\n",
    "    \"\"\"Generates a simple report based on diagnostic status.\"\"\"\n",
    "    print(f\"Report for {device_id}: Status - {'Success' if status else 'Failure'}.\")\n",
    "\n",
    "\n",
    "if __name__ == '__main__':\n",
    "    # This block only runs when diagnostic_tool.py is executed directly\n",
    "    print(\"--- Running Diagnostic Tool as a Script ---\")\n",
    "\n",
    "    # Example usage when run as a script\n",
    "    device_to_check = input(\"Enter device ID to diagnose: \")\n",
    "    diag_status = run_diagnostics(device_to_check)\n",
    "    generate_report(device_to_check, diag_status)\n",
    "\n",
    "    print(\"Script execution finished.\")\n",
    "else:\n",
    "    # This block runs if diagnostic_tool.py is imported as a module\n",
    "    print(\"Diagnostic Tool module imported.\")\n",
    "\n",
    "# You can still call functions from the module even if it's imported\n",
    "# For example, if you import it, you could later do:\n",
    "# import diagnostic_tool\n",
    "# diagnostic_tool.run_diagnostics(\"ABC-123\")\n"
   ]
  },
  {
   "cell_type": "code",
   "execution_count": 11,
   "id": "0879846b",
   "metadata": {},
   "outputs": [
    {
     "name": "stdout",
     "output_type": "stream",
     "text": [
      "--- Python's Module Search Path (sys.path) ---\n",
      "/opt/anaconda3/envs/urscenv/lib/python313.zip\n",
      "/opt/anaconda3/envs/urscenv/lib/python3.13\n",
      "/opt/anaconda3/envs/urscenv/lib/python3.13/lib-dynload\n",
      "\n",
      "/opt/anaconda3/envs/urscenv/lib/python3.13/site-packages\n"
     ]
    }
   ],
   "source": [
    "import sys\n",
    "\n",
    "print(\"--- Python's Module Search Path (sys.path) ---\")\n",
    "for path in sys.path:\n",
    "    print(path)\n",
    "\n",
    "# You can temporarily add a path for demonstration (not recommended for production)\n",
    "# sys.path.append('/path/to/my/custom_modules')\n",
    "# print(\"\\nPath after adding custom: \", sys.path[-1]) \n"
   ]
  },
  {
   "cell_type": "code",
   "execution_count": 12,
   "id": "10d23329",
   "metadata": {},
   "outputs": [
    {
     "name": "stdout",
     "output_type": "stream",
     "text": [
      "\n",
      "--- Working with Files & Folders ---\n",
      "Current folder is: /Users/rajathkumar/ursc/day2/notebooks\n",
      "My notes path will be: /Users/rajathkumar/ursc/day2/notebooks/notes/day1.txt\n",
      "Created folder: /Users/rajathkumar/ursc/day2/notebooks/notes\n",
      "Created file: /Users/rajathkumar/ursc/day2/notebooks/notes/hello.txt\n",
      "File content:\n",
      " Hello, Python!\n",
      "This is my file.\n",
      "\n",
      "Folder contents:\n",
      " - hello.txt\n",
      "\n",
      "Parts of path:\n",
      "Name: hello.txt\n",
      "Name without extension: hello\n",
      "Extension: .txt\n",
      "Parent folder: /Users/rajathkumar/ursc/day2/notebooks/notes\n"
     ]
    }
   ],
   "source": [
    "from pathlib import Path\n",
    "\n",
    "print(\"\\n--- Working with Files & Folders ---\")\n",
    "\n",
    "# Where are we now?\n",
    "my_folder = Path.cwd()\n",
    "print(\"Current folder is:\", my_folder)\n",
    "\n",
    "# Build a file path\n",
    "my_notes = my_folder / \"notes\" / \"day1.txt\"\n",
    "print(\"My notes path will be:\", my_notes)\n",
    "\n",
    "# Create a folder\n",
    "notes_folder = my_folder / \"notes\"\n",
    "if not notes_folder.exists():\n",
    "    notes_folder.mkdir()\n",
    "    print(\"Created folder:\", notes_folder)\n",
    "\n",
    "# Create and write a simple file\n",
    "file_path = notes_folder / \"hello.txt\"\n",
    "file_path.write_text(\"Hello, Python!\\nThis is my file.\")\n",
    "print(\"Created file:\", file_path)\n",
    "\n",
    "# Read the file\n",
    "print(\"File content:\\n\", file_path.read_text())\n",
    "\n",
    "# See what's inside the folder\n",
    "print(\"\\nFolder contents:\")\n",
    "for item in notes_folder.iterdir():\n",
    "    print(\" -\", item.name)\n",
    "\n",
    "# Explore file parts\n",
    "print(\"\\nParts of path:\")\n",
    "print(\"Name:\", file_path.name)\n",
    "print(\"Name without extension:\", file_path.stem)\n",
    "print(\"Extension:\", file_path.suffix)\n",
    "print(\"Parent folder:\", file_path.parent)"
   ]
  },
  {
   "cell_type": "code",
   "execution_count": 13,
   "id": "13514ae1",
   "metadata": {},
   "outputs": [
    {
     "name": "stdout",
     "output_type": "stream",
     "text": [
      "\n",
      "--- pathlib module examples ---\n",
      "Current Path (Path object): /Users/rajathkumar/ursc/day2/notebooks\n",
      "Constructed file path: /Users/rajathkumar/ursc/day2/notebooks/data/sensor_log.txt\n",
      "Does data_file exist? False\n",
      "Is data_file a file? False\n",
      "Is current_path a directory? True\n",
      "Directory '/Users/rajathkumar/ursc/day2/notebooks/raw_sensor_data' already exists.\n",
      "\n",
      "Contents of 'raw_sensor_data' directory:\n",
      " - telemetry_2025.log (is_file: True, is_dir: False)\n",
      "\n",
      "Parts of '/Users/rajathkumar/ursc/day2/notebooks/data/sensor_log.txt':\n",
      "  Name: sensor_log.txt\n",
      "  Stem: sensor_log\n",
      "  Suffix: .txt\n",
      "  Parent: /Users/rajathkumar/ursc/day2/notebooks/data\n"
     ]
    }
   ],
   "source": [
    "from pathlib import Path\n",
    "\n",
    "print(\"\\n--- pathlib module examples ---\")\n",
    "\n",
    "# Create a Path object for the current directory\n",
    "current_path = Path.cwd()\n",
    "print(f\"Current Path (Path object): {current_path}\")\n",
    "\n",
    "# Create a path to a specific file\n",
    "data_file = current_path / \"data\" / \"sensor_log.txt\"  # Using the / operator for path joining\n",
    "print(f\"Constructed file path: {data_file}\")\n",
    "\n",
    "# Check if exists, is file/dir\n",
    "print(f\"Does data_file exist? {data_file.exists()}\")\n",
    "print(f\"Is data_file a file? {data_file.is_file()}\")\n",
    "print(f\"Is current_path a directory? {current_path.is_dir()}\")\n",
    "\n",
    "# Create directories\n",
    "new_data_dir = current_path / \"raw_sensor_data\"\n",
    "if not new_data_dir.exists():\n",
    "    new_data_dir.mkdir(parents=True, exist_ok=True)  # parents=True creates intermediate dirs\n",
    "    print(f\"Created directory: {new_data_dir}\")\n",
    "else:\n",
    "    print(f\"Directory '{new_data_dir}' already exists.\")\n",
    "\n",
    "# File operations (e.g., creating a dummy file)\n",
    "dummy_log = new_data_dir / \"telemetry_2025.log\"\n",
    "if not dummy_log.exists():\n",
    "    dummy_log.write_text(\"Telemetry data line 1\\nTelemetry data line 2\")\n",
    "    print(f\"Created dummy log file: {dummy_log}\")\n",
    "    print(f\"Content:\\n{dummy_log.read_text()}\")\n",
    "\n",
    "# Iterating over directory contents\n",
    "print(\"\\nContents of 'raw_sensor_data' directory:\")\n",
    "for item in new_data_dir.iterdir():\n",
    "    print(f\" - {item.name} (is_file: {item.is_file()}, is_dir: {item.is_dir()})\")\n",
    "\n",
    "# Getting parts of a path\n",
    "print(f\"\\nParts of '{data_file}':\")\n",
    "print(f\"  Name: {data_file.name}\")     # sensor_log.txt\n",
    "print(f\"  Stem: {data_file.stem}\")     # sensor_log\n",
    "print(f\"  Suffix: {data_file.suffix}\") # .txt\n",
    "print(f\"  Parent: {data_file.parent}\") # .../data\n"
   ]
  },
  {
   "cell_type": "code",
   "execution_count": null,
   "id": "c692480e",
   "metadata": {},
   "outputs": [],
   "source": []
  }
 ],
 "metadata": {
  "kernelspec": {
   "display_name": "urscenv",
   "language": "python",
   "name": "python3"
  },
  "language_info": {
   "codemirror_mode": {
    "name": "ipython",
    "version": 3
   },
   "file_extension": ".py",
   "mimetype": "text/x-python",
   "name": "python",
   "nbconvert_exporter": "python",
   "pygments_lexer": "ipython3",
   "version": "3.13.5"
  }
 },
 "nbformat": 4,
 "nbformat_minor": 5
}
