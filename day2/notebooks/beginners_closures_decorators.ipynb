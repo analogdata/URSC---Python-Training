{
 "cells": [
  {
   "cell_type": "markdown",
   "id": "27ba910e",
   "metadata": {},
   "source": [
    "# Day 2 Session 2: Beginner-Friendly Function Concepts"
   ]
  },
  {
   "cell_type": "markdown",
   "id": "711ab6dd",
   "metadata": {},
   "source": [
    "## 1. First-Class Functions\n",
    "In Python, functions are just like any other variable. You can store them in variables, pass them around, and return them from other functions."
   ]
  },
  {
   "cell_type": "markdown",
   "id": "6e2ab611",
   "metadata": {},
   "source": [
    "### 1.1 Assigning Functions to Variables"
   ]
  },
  {
   "cell_type": "code",
   "execution_count": 1,
   "id": "b2508108",
   "metadata": {},
   "outputs": [
    {
     "name": "stdout",
     "output_type": "stream",
     "text": [
      "Hello, Aditi!\n"
     ]
    }
   ],
   "source": [
    "def greet(name):\n",
    "    print(f\"Hello, {name}!\")\n",
    "\n",
    "say_hello = greet  # Assigning function to a variable\n",
    "say_hello(\"Aditi\")"
   ]
  },
  {
   "cell_type": "markdown",
   "id": "c669cefb",
   "metadata": {},
   "source": [
    "### 1.2 Passing Functions as Arguments"
   ]
  },
  {
   "cell_type": "code",
   "execution_count": 2,
   "id": "160b43fa",
   "metadata": {},
   "outputs": [
    {
     "name": "stdout",
     "output_type": "stream",
     "text": [
      "WELCOME\n",
      "WELCOME\n"
     ]
    }
   ],
   "source": [
    "def do_twice(func, value):\n",
    "    func(value)\n",
    "    func(value)\n",
    "\n",
    "def print_upper(text):\n",
    "    print(text.upper())\n",
    "\n",
    "do_twice(print_upper, \"welcome\")"
   ]
  },
  {
   "cell_type": "markdown",
   "id": "6ef55ef8",
   "metadata": {},
   "source": [
    "### 1.3 Returning Functions from Functions"
   ]
  },
  {
   "cell_type": "code",
   "execution_count": 3,
   "id": "de608ccc",
   "metadata": {},
   "outputs": [
    {
     "name": "stdout",
     "output_type": "stream",
     "text": [
      "20\n"
     ]
    }
   ],
   "source": [
    "def get_multiplier(factor):\n",
    "    def multiply(x):\n",
    "        return x * factor\n",
    "    return multiply\n",
    "\n",
    "double = get_multiplier(2)\n",
    "print(double(10))"
   ]
  },
  {
   "cell_type": "markdown",
   "id": "10154d99",
   "metadata": {},
   "source": [
    "## 2. Closures\n",
    "A closure is when a function remembers the variables from its surrounding scope even if the scope is gone."
   ]
  },
  {
   "cell_type": "code",
   "execution_count": 4,
   "id": "6cced6ed",
   "metadata": {},
   "outputs": [
    {
     "name": "stdout",
     "output_type": "stream",
     "text": [
      "Hello, Anil!\n"
     ]
    }
   ],
   "source": [
    "def make_greeter(greeting):\n",
    "    def greet(name):\n",
    "        print(f\"{greeting}, {name}!\")\n",
    "    return greet\n",
    "\n",
    "hello_greeter = make_greeter(\"Hello\")\n",
    "hello_greeter(\"Anil\")"
   ]
  },
  {
   "cell_type": "markdown",
   "id": "82a808fd",
   "metadata": {},
   "source": [
    "## 3. Decorators\n",
    "Decorators add extra features to functions without changing their original code."
   ]
  },
  {
   "cell_type": "markdown",
   "id": "5ad6fc92",
   "metadata": {},
   "source": [
    "### 3.1 Basic Decorator"
   ]
  },
  {
   "cell_type": "code",
   "execution_count": 5,
   "id": "1cfa5c82",
   "metadata": {},
   "outputs": [
    {
     "name": "stdout",
     "output_type": "stream",
     "text": [
      "Before the function runs\n",
      "Hi!\n",
      "After the function runs\n"
     ]
    }
   ],
   "source": [
    "def simple_decorator(func):\n",
    "    def wrapper():\n",
    "        print(\"Before the function runs\")\n",
    "        func()\n",
    "        print(\"After the function runs\")\n",
    "    return wrapper\n",
    "\n",
    "@simple_decorator\n",
    "def say_hi():\n",
    "    print(\"Hi!\")\n",
    "\n",
    "say_hi()"
   ]
  },
  {
   "cell_type": "markdown",
   "id": "ea31a7a1",
   "metadata": {},
   "source": [
    "### 3.2 Decorator with Arguments"
   ]
  },
  {
   "cell_type": "code",
   "execution_count": 6,
   "id": "45d2f730",
   "metadata": {},
   "outputs": [
    {
     "name": "stdout",
     "output_type": "stream",
     "text": [
      "Hurray!\n",
      "Hurray!\n",
      "Hurray!\n"
     ]
    }
   ],
   "source": [
    "def repeat(n):\n",
    "    def decorator(func):\n",
    "        def wrapper(*args, **kwargs):\n",
    "            for _ in range(n):\n",
    "                func(*args, **kwargs)\n",
    "        return wrapper\n",
    "    return decorator\n",
    "\n",
    "@repeat(3)\n",
    "def cheer():\n",
    "    print(\"Hurray!\")\n",
    "\n",
    "cheer()"
   ]
  },
  {
   "cell_type": "markdown",
   "id": "58da3b19",
   "metadata": {},
   "source": [
    "### 3.3 Preserving Function Info with @wraps"
   ]
  },
  {
   "cell_type": "code",
   "execution_count": 7,
   "id": "0269bd94",
   "metadata": {},
   "outputs": [
    {
     "name": "stdout",
     "output_type": "stream",
     "text": [
      "You're awesome!\n",
      "Asha, you're doing great!\n",
      "compliment\n",
      "Gives a compliment\n"
     ]
    }
   ],
   "source": [
    "from functools import wraps\n",
    "\n",
    "def friendly(func):\n",
    "    @wraps(func)\n",
    "    def wrapper(*args, **kwargs):\n",
    "        print(\"You're awesome!\")\n",
    "        return func(*args, **kwargs)\n",
    "    return wrapper\n",
    "\n",
    "@friendly\n",
    "def compliment(name):\n",
    "    \"Gives a compliment\"\n",
    "    print(f\"{name}, you're doing great!\")\n",
    "\n",
    "compliment(\"Asha\")\n",
    "print(compliment.__name__)\n",
    "print(compliment.__doc__)"
   ]
  },
  {
   "cell_type": "markdown",
   "id": "92acb0f8",
   "metadata": {},
   "source": [
    "## 4. functools: Useful Decorators"
   ]
  },
  {
   "cell_type": "markdown",
   "id": "1dcc0917",
   "metadata": {},
   "source": [
    "### 4.1 Caching with lru_cache"
   ]
  },
  {
   "cell_type": "code",
   "execution_count": 8,
   "id": "9a5a5c42",
   "metadata": {},
   "outputs": [
    {
     "name": "stdout",
     "output_type": "stream",
     "text": [
      "5\n",
      "5\n"
     ]
    }
   ],
   "source": [
    "from functools import lru_cache\n",
    "import time\n",
    "\n",
    "@lru_cache(maxsize=3)\n",
    "def slow_add(x, y):\n",
    "    time.sleep(1)\n",
    "    return x + y\n",
    "\n",
    "print(slow_add(2, 3))\n",
    "print(slow_add(2, 3))  # This one is fast due to cache"
   ]
  },
  {
   "cell_type": "markdown",
   "id": "f774c1fd",
   "metadata": {},
   "source": [
    "### 4.2 Type-Based Function with singledispatch"
   ]
  },
  {
   "cell_type": "code",
   "execution_count": 9,
   "id": "554b4fb0",
   "metadata": {},
   "outputs": [
    {
     "name": "stdout",
     "output_type": "stream",
     "text": [
      "String: HELLO\n",
      "Integer: 10\n",
      "Default: 3.14\n"
     ]
    }
   ],
   "source": [
    "from functools import singledispatch\n",
    "\n",
    "@singledispatch\n",
    "def show(data):\n",
    "    print(f\"Default: {data}\")\n",
    "\n",
    "@show.register(int)\n",
    "def _(data):\n",
    "    print(f\"Integer: {data}\")\n",
    "\n",
    "@show.register(str)\n",
    "def _(data):\n",
    "    print(f\"String: {data.upper()}\")\n",
    "\n",
    "show(\"hello\")\n",
    "show(10)\n",
    "show(3.14)"
   ]
  }
 ],
 "metadata": {
  "kernelspec": {
   "display_name": "urscenv",
   "language": "python",
   "name": "python3"
  },
  "language_info": {
   "codemirror_mode": {
    "name": "ipython",
    "version": 3
   },
   "file_extension": ".py",
   "mimetype": "text/x-python",
   "name": "python",
   "nbconvert_exporter": "python",
   "pygments_lexer": "ipython3",
   "version": "3.13.5"
  }
 },
 "nbformat": 4,
 "nbformat_minor": 5
}
