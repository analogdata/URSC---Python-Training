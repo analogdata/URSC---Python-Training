{
 "cells": [
  {
   "cell_type": "markdown",
   "id": "e2980a62",
   "metadata": {},
   "source": [
    "## Day 2 Session 1\n",
    "\n",
    "It Consist's of all the programs from Day 2 Session 1."
   ]
  },
  {
   "cell_type": "code",
   "execution_count": 11,
   "id": "c92a94c5",
   "metadata": {},
   "outputs": [
    {
     "name": "stdout",
     "output_type": "stream",
     "text": [
      "Hello: Welcome to Python functions!\n"
     ]
    }
   ],
   "source": [
    "# A function that tells you good news\n",
    "def say_hello(message):\n",
    "    print(\"Hello:\", message)\n",
    "\n",
    "# Assign the function to another name\n",
    "greet = say_hello\n",
    "\n",
    "# Use the new name to call the function\n",
    "greet(\"Welcome to Python functions!\")"
   ]
  },
  {
   "cell_type": "code",
   "execution_count": 1,
   "id": "85dd8d41",
   "metadata": {},
   "outputs": [
    {
     "name": "stdout",
     "output_type": "stream",
     "text": [
      "INFO: This is a log message via a variable.\n"
     ]
    }
   ],
   "source": [
    "def log_message(msg):\n",
    "    \"\"\"Logs a message with a prefix.\"\"\"\n",
    "    print(f\"INFO: {msg}\")\n",
    "\n",
    "\n",
    "# Assign the function to a variable\n",
    "my_logger = log_message\n",
    "\n",
    "# Call the function using the variable\n",
    "my_logger(\"This is a log message via a variable.\")"
   ]
  },
  {
   "cell_type": "code",
   "execution_count": 12,
   "id": "b09ffa26",
   "metadata": {},
   "outputs": [
    {
     "name": "stdout",
     "output_type": "stream",
     "text": [
      "\n",
      "--- Strategy: Double Marks ---\n",
      "Data: [45, 60, -10, 70, -5]\n",
      "Result: [90, 120, -20, 140, -10]\n",
      "\n",
      "--- Strategy: Remove Negative Marks ---\n",
      "Data: [45, 60, -10, 70, -5]\n",
      "Result: [45, 60, 70]\n"
     ]
    }
   ],
   "source": [
    "# Let's write two simple strategies\n",
    "def double_all(numbers):\n",
    "    return [n * 2 for n in numbers]\n",
    "\n",
    "def remove_negatives(numbers):\n",
    "    return [n for n in numbers if n >= 0]\n",
    "\n",
    "# This function accepts another function!\n",
    "def use_strategy(data, strategy):\n",
    "    print(\"Data:\", data)\n",
    "    result = strategy(data)\n",
    "    print(\"Result:\", result)\n",
    "\n",
    "marks = [45, 60, -10, 70, -5]\n",
    "\n",
    "print(\"\\n--- Strategy: Double Marks ---\")\n",
    "use_strategy(marks, double_all)\n",
    "\n",
    "print(\"\\n--- Strategy: Remove Negative Marks ---\")\n",
    "use_strategy(marks, remove_negatives)"
   ]
  },
  {
   "cell_type": "code",
   "execution_count": 2,
   "id": "31f7483c",
   "metadata": {},
   "outputs": [
    {
     "name": "stdout",
     "output_type": "stream",
     "text": [
      "--- Applying Multiply Strategy ---\n",
      "Original data: [10, 20, -5, 15, -10]\n",
      "Processed data: [20, 40, -10, 30, -20]\n",
      "\n",
      "--- Applying Filter Strategy ---\n",
      "Original data: [10, 20, -5, 15, -10]\n",
      "Processed data: [10, 20, 15]\n"
     ]
    },
    {
     "data": {
      "text/plain": [
       "[10, 20, 15]"
      ]
     },
     "execution_count": 2,
     "metadata": {},
     "output_type": "execute_result"
    }
   ],
   "source": [
    "def process_data(data, strategy_function):\n",
    "    \"\"\"\n",
    "    Processes data using a given strategy function.\n",
    "    `strategy_function` is a function passed as an argument.\n",
    "    \"\"\"\n",
    "    print(f\"Original data: {data}\")\n",
    "    processed_data = strategy_function(data)\n",
    "    print(f\"Processed data: {processed_data}\")\n",
    "    return processed_data\n",
    "\n",
    "\n",
    "def multiply_by_two(values):\n",
    "    \"\"\"Strategy: multiplies all values in a list by two.\"\"\"\n",
    "    return [v * 2 for v in values]\n",
    "\n",
    "\n",
    "def filter_negatives(values):\n",
    "    \"\"\"Strategy: filters out negative values from a list.\"\"\"\n",
    "    return [v for v in values if v >= 0]\n",
    "\n",
    "\n",
    "sensor_readings = [10, 20, -5, 15, -10]\n",
    "\n",
    "print(\"--- Applying Multiply Strategy ---\")\n",
    "process_data(sensor_readings, multiply_by_two)\n",
    "\n",
    "print(\"\\n--- Applying Filter Strategy ---\")\n",
    "process_data(sensor_readings, filter_negatives)\n"
   ]
  },
  {
   "cell_type": "code",
   "execution_count": 13,
   "id": "0a6bc9fc",
   "metadata": {},
   "outputs": [
    {
     "name": "stdout",
     "output_type": "stream",
     "text": [
      "Is age 25 okay? True\n",
      "Is age 75 okay? False\n",
      "Is speed 50 okay? True\n",
      "Is speed 120 okay? False\n"
     ]
    }
   ],
   "source": [
    "# Make a custom checker that remembers the rules\n",
    "def make_checker(min_allowed, max_allowed):\n",
    "    def check(value):\n",
    "        return min_allowed <= value <= max_allowed\n",
    "    return check\n",
    "\n",
    "# Create specific checkers\n",
    "check_age = make_checker(18, 60)\n",
    "check_speed = make_checker(30, 100)\n",
    "\n",
    "print(\"Is age 25 okay?\", check_age(25))     # True\n",
    "print(\"Is age 75 okay?\", check_age(75))     # False\n",
    "print(\"Is speed 50 okay?\", check_speed(50)) # True\n",
    "print(\"Is speed 120 okay?\", check_speed(120)) # False"
   ]
  },
  {
   "cell_type": "code",
   "execution_count": 14,
   "id": "8baee030",
   "metadata": {},
   "outputs": [
    {
     "name": "stdout",
     "output_type": "stream",
     "text": [
      "Is 25°C a valid temperature? True\n",
      "Is 120°C a valid temperature? False\n",
      "Is 95 kPa a valid pressure? True\n",
      "Is 80 kPa a valid pressure? False\n"
     ]
    }
   ],
   "source": [
    "def create_validator(min_val, max_val):\n",
    "    \"\"\"\n",
    "    Returns a function that validates if a value is within a specified range.\n",
    "    The returned function \"remembers\" min_val and max_val.\n",
    "    \"\"\"\n",
    "    def validator_function(value):\n",
    "        return min_val <= value <= max_val\n",
    "\n",
    "    return validator_function\n",
    "\n",
    "\n",
    "# Create specific validators\n",
    "is_valid_temperature = create_validator(0, 100)   # Celsius\n",
    "is_valid_pressure = create_validator(90, 110)     # kPa\n",
    "\n",
    "print(f\"Is 25°C a valid temperature? {is_valid_temperature(25)}\")\n",
    "print(f\"Is 120°C a valid temperature? {is_valid_temperature(120)}\")\n",
    "print(f\"Is 95 kPa a valid pressure? {is_valid_pressure(95)}\")\n",
    "print(f\"Is 80 kPa a valid pressure? {is_valid_pressure(80)}\")"
   ]
  },
  {
   "cell_type": "code",
   "execution_count": 15,
   "id": "a6a70aa2",
   "metadata": {},
   "outputs": [
    {
     "name": "stdout",
     "output_type": "stream",
     "text": [
      "[2025-06-24 05:31:17] Anu scored 92 in Math\n",
      "[2025-06-24 05:31:17] Raj scored 85 in Science\n",
      "[2025-06-24 05:31:17] Anu scored 88 in English\n"
     ]
    }
   ],
   "source": [
    "# Create a message printer for a specific student\n",
    "def create_student_logger(student_name):\n",
    "    def log_score(score, subject):\n",
    "        from datetime import datetime\n",
    "        time = datetime.now().strftime(\"%Y-%m-%d %H:%M:%S\")\n",
    "        print(f\"[{time}] {student_name} scored {score} in {subject}\")\n",
    "    return log_score\n",
    "\n",
    "# Create loggers\n",
    "log_anu = create_student_logger(\"Anu\")\n",
    "log_raj = create_student_logger(\"Raj\")\n",
    "\n",
    "log_anu(92, \"Math\")\n",
    "log_raj(85, \"Science\")\n",
    "log_anu(88, \"English\")"
   ]
  },
  {
   "cell_type": "code",
   "execution_count": 4,
   "id": "17dc3892",
   "metadata": {},
   "outputs": [
    {
     "name": "stdout",
     "output_type": "stream",
     "text": [
      "[2025-06-24 05:21:41] Sensor Temp_A01: 28.50 °C\n",
      "[2025-06-24 05:21:41] Sensor Pres_B02: 101.30 kPa\n",
      "[2025-06-24 05:21:41] Sensor Temp_A01: 29.10 °C\n",
      "\n",
      "Logger Temp closure vars: Temp_A01\n",
      "Logger Pressure closure vars: Pres_B02\n"
     ]
    }
   ],
   "source": [
    "# Scenario: Creating specialized sensor data loggers with a fixed sensor ID\n",
    "\n",
    "def create_sensor_logger(sensor_id):\n",
    "    \"\"\"\n",
    "    Returns a logger function for a specific sensor.\n",
    "    The returned logger 'closes over' the `sensor_id`.\n",
    "    \"\"\"\n",
    "    def log_reading(reading, unit):\n",
    "        import datetime  # Import inside to avoid circular dependency if this was a module\n",
    "        timestamp = datetime.datetime.now().strftime(\"%Y-%m-%d %H:%M:%S\")\n",
    "        print(f\"[{timestamp}] Sensor {sensor_id}: {reading:.2f} {unit}\")\n",
    "\n",
    "    return log_reading\n",
    "\n",
    "\n",
    "# Create loggers for different sensors\n",
    "logger_temp = create_sensor_logger(\"Temp_A01\")\n",
    "logger_pressure = create_sensor_logger(\"Pres_B02\")\n",
    "\n",
    "# Use the specialized loggers\n",
    "logger_temp(28.5, \"°C\")\n",
    "logger_pressure(101.3, \"kPa\")\n",
    "logger_temp(29.1, \"°C\")  # Temp_A01 logger still remembers its ID\n",
    "\n",
    "# Examining the closure\n",
    "# You can inspect the closure's free variables (variables from enclosing scope)\n",
    "print(f\"\\nLogger Temp closure vars: {logger_temp.__closure__[0].cell_contents}\")\n",
    "print(f\"Logger Pressure closure vars: {logger_pressure.__closure__[0].cell_contents}\")"
   ]
  },
  {
   "cell_type": "code",
   "execution_count": 16,
   "id": "3efb2f67",
   "metadata": {},
   "outputs": [
    {
     "name": "stdout",
     "output_type": "stream",
     "text": [
      "\n",
      "--- Decorator Demo ---\n",
      "Step 1: Starting...\n",
      "Hello, Meera!\n",
      "Step 2: Finished.\n",
      "Step 1: Starting...\n",
      "5 + 3 = 8\n",
      "Step 2: Finished.\n"
     ]
    },
    {
     "data": {
      "text/plain": [
       "8"
      ]
     },
     "execution_count": 16,
     "metadata": {},
     "output_type": "execute_result"
    }
   ],
   "source": [
    "# A decorator that adds 'before' and 'after' messages\n",
    "def show_steps(func):\n",
    "    def wrapper(*args, **kwargs):\n",
    "        print(\"Step 1: Starting...\")\n",
    "        result = func(*args, **kwargs)\n",
    "        print(\"Step 2: Finished.\")\n",
    "        return result\n",
    "    return wrapper\n",
    "\n",
    "@show_steps\n",
    "def greet(name):\n",
    "    print(f\"Hello, {name}!\")\n",
    "\n",
    "@show_steps\n",
    "def add(x, y):\n",
    "    print(f\"{x} + {y} =\", x + y)\n",
    "    return x + y\n",
    "\n",
    "print(\"\\n--- Decorator Demo ---\")\n",
    "greet(\"Meera\")\n",
    "add(5, 3)"
   ]
  },
  {
   "cell_type": "code",
   "execution_count": 17,
   "id": "3d445abc",
   "metadata": {},
   "outputs": [
    {
     "name": "stdout",
     "output_type": "stream",
     "text": [
      "--- Applying Simple Decorator ---\n",
      "DEBUG: Entering function 'perform_calculation'...\n",
      "  Performing calculation: 10 + 20\n",
      "DEBUG: Exiting function 'perform_calculation'.\n",
      "Calculation Result: 30\n",
      "DEBUG: Entering function 'fetch_sensor_data'...\n",
      "  Fetching data for Temp_001...\n",
      "DEBUG: Exiting function 'fetch_sensor_data'.\n",
      "Sensor Data: {'id': 'Temp_001', 'value': 25.5, 'unit': 'C'}\n"
     ]
    }
   ],
   "source": [
    "def simple_decorator(func):\n",
    "    \"\"\"\n",
    "    A simple decorator that prints messages before and after function execution.\n",
    "    \"\"\"\n",
    "    def wrapper(*args, **kwargs):\n",
    "        print(f\"DEBUG: Entering function '{func.__name__}'...\")\n",
    "        result = func(*args, **kwargs)  # Call the original function\n",
    "        print(f\"DEBUG: Exiting function '{func.__name__}'.\")\n",
    "        return result\n",
    "\n",
    "    return wrapper\n",
    "\n",
    "\n",
    "@simple_decorator\n",
    "def perform_calculation(x, y):\n",
    "    \"\"\"Performs a simple calculation.\"\"\"\n",
    "    print(f\"  Performing calculation: {x} + {y}\")\n",
    "    return x + y\n",
    "\n",
    "\n",
    "@simple_decorator\n",
    "def fetch_sensor_data(sensor_id):\n",
    "    \"\"\"Simulates fetching data for a sensor.\"\"\"\n",
    "    print(f\"  Fetching data for {sensor_id}...\")\n",
    "    return {\"id\": sensor_id, \"value\": 25.5, \"unit\": \"C\"}\n",
    "\n",
    "\n",
    "print(\"--- Applying Simple Decorator ---\")\n",
    "result_calc = perform_calculation(10, 20)\n",
    "print(f\"Calculation Result: {result_calc}\")\n",
    "\n",
    "sensor_data = fetch_sensor_data(\"Temp_001\")\n",
    "print(f\"Sensor Data: {sensor_data}\")\n"
   ]
  },
  {
   "cell_type": "code",
   "execution_count": 18,
   "id": "bd7a943a",
   "metadata": {},
   "outputs": [
    {
     "name": "stdout",
     "output_type": "stream",
     "text": [
      "\n",
      "--- Role-based Access ---\n",
      "Access granted to teacher\n",
      "teacher is viewing scores for Asha\n",
      "Access denied to student. Allowed: ['teacher', 'admin']\n",
      "Access granted to admin\n",
      "admin deleted Asha's account\n",
      "Access denied to teacher. Allowed: ['admin']\n"
     ]
    }
   ],
   "source": [
    "# A decorator factory that accepts allowed roles\n",
    "def allow_roles(roles):\n",
    "    def decorator(func):\n",
    "        def wrapper(user_role, *args):\n",
    "            if user_role in roles:\n",
    "                print(f\"Access granted to {user_role}\")\n",
    "                return func(user_role, *args)\n",
    "            else:\n",
    "                print(f\"Access denied to {user_role}. Allowed: {roles}\")\n",
    "        return wrapper\n",
    "    return decorator\n",
    "\n",
    "@allow_roles([\"teacher\", \"admin\"])\n",
    "def view_scores(user_role, student):\n",
    "    print(f\"{user_role} is viewing scores for {student}\")\n",
    "\n",
    "@allow_roles([\"admin\"])\n",
    "def delete_account(user_role, student):\n",
    "    print(f\"{user_role} deleted {student}'s account\")\n",
    "\n",
    "print(\"\\n--- Role-based Access ---\")\n",
    "view_scores(\"teacher\", \"Asha\")\n",
    "view_scores(\"student\", \"Asha\")      # denied\n",
    "delete_account(\"admin\", \"Asha\")\n",
    "delete_account(\"teacher\", \"Asha\")   # denied"
   ]
  },
  {
   "cell_type": "code",
   "execution_count": 19,
   "id": "796c3f19",
   "metadata": {},
   "outputs": [
    {
     "name": "stdout",
     "output_type": "stream",
     "text": [
      "\n",
      "--- Applying Decorators with Arguments (Authorization) ---\n",
      "INFO: User with role 'operator' authorized for 'calibrate_system'.\n",
      "  Calibrating device XYZ-001 by operator...\n",
      "ACCESS DENIED: User with role 'guest' not authorized for 'calibrate_system'. Required roles: ['admin', 'operator'].\n",
      "INFO: User with role 'admin' authorized for 'delete_critical_data'.\n",
      "  Deleting critical data LOG-DATA-999 by admin...\n",
      "ACCESS DENIED: User with role 'operator' not authorized for 'delete_critical_data'. Required roles: ['admin'].\n"
     ]
    }
   ],
   "source": [
    "def authorization_required(roles):\n",
    "    \"\"\"\n",
    "    Decorator factory that takes roles as arguments.\n",
    "    Returns the actual decorator.\n",
    "    \"\"\"\n",
    "    def decorator(func):\n",
    "        def wrapper(user_role, *args, **kwargs):\n",
    "            if user_role in roles:\n",
    "                print(f\"INFO: User with role '{user_role}' authorized for '{func.__name__}'.\")\n",
    "                return func(user_role, *args, **kwargs)\n",
    "            else:\n",
    "                print(f\"ACCESS DENIED: User with role '{user_role}' not authorized for '{func.__name__}'. \"\n",
    "                      f\"Required roles: {roles}.\")\n",
    "                return None  # Or raise an exception\n",
    "        return wrapper\n",
    "    return decorator\n",
    "\n",
    "\n",
    "@authorization_required(roles=[\"admin\", \"operator\"])\n",
    "def calibrate_system(user_role, device_id):\n",
    "    \"\"\"Calibrates a system.\"\"\"\n",
    "    print(f\"  Calibrating device {device_id} by {user_role}...\")\n",
    "    return f\"Device {device_id} calibrated.\"\n",
    "\n",
    "\n",
    "@authorization_required(roles=[\"admin\"])\n",
    "def delete_critical_data(user_role, data_id):\n",
    "    \"\"\"Deletes critical data (admin only).\"\"\"\n",
    "    print(f\"  Deleting critical data {data_id} by {user_role}...\")\n",
    "    return f\"Data {data_id} deleted.\"\n",
    "\n",
    "\n",
    "print(\"\\n--- Applying Decorators with Arguments (Authorization) ---\")\n",
    "calibrate_system(\"operator\", \"XYZ-001\")\n",
    "calibrate_system(\"guest\", \"XYZ-002\")  # Denied\n",
    "delete_critical_data(\"admin\", \"LOG-DATA-999\")\n",
    "delete_critical_data(\"operator\", \"LOG-DATA-1000\")  # Denied\n"
   ]
  },
  {
   "cell_type": "code",
   "execution_count": 20,
   "id": "2cd0b6eb",
   "metadata": {},
   "outputs": [
    {
     "name": "stdout",
     "output_type": "stream",
     "text": [
      "\n",
      "--- Homework Timer ---\n",
      "Took 0.00 seconds to finish.\n",
      "Doc: Simulates doing homework\n"
     ]
    }
   ],
   "source": [
    "import time\n",
    "from functools import wraps\n",
    "\n",
    "# Decorator to time any task\n",
    "def time_it(func):\n",
    "    @wraps(func)\n",
    "    def wrapper(*args, **kwargs):\n",
    "        start = time.time()\n",
    "        result = func(*args, **kwargs)\n",
    "        end = time.time()\n",
    "        print(f\"Took {end - start:.2f} seconds to finish.\")\n",
    "        return result\n",
    "    return wrapper\n",
    "\n",
    "@time_it\n",
    "def do_homework(pages):\n",
    "    \"\"\"Simulates doing homework\"\"\"\n",
    "    total = 0\n",
    "    for i in range(pages * 10000):\n",
    "        total += i * 0.00001\n",
    "    return total\n",
    "\n",
    "print(\"\\n--- Homework Timer ---\")\n",
    "do_homework(5)\n",
    "print(\"Doc:\", do_homework.__doc__)  # Shows original docstring"
   ]
  },
  {
   "cell_type": "code",
   "execution_count": 21,
   "id": "5b96ebbd",
   "metadata": {},
   "outputs": [
    {
     "name": "stdout",
     "output_type": "stream",
     "text": [
      "--- Using @wraps ---\n",
      "INFO: Function 'long_running_simulation' executed in 0.0218 seconds.\n",
      "Docstring of long_running_simulation: \n",
      "Simulates a long-running numerical simulation.\n",
      "\n",
      "Name of long_running_simulation: long_running_simulation\n"
     ]
    }
   ],
   "source": [
    "import functools\n",
    "\n",
    "def timed_execution(func):\n",
    "    \"\"\"\n",
    "    Decorator to measure the execution time of a function.\n",
    "    \"\"\"\n",
    "    @functools.wraps(func)  # This line copies metadata from 'func' to 'wrapper'\n",
    "    def wrapper(*args, **kwargs):\n",
    "        import time  # Import inside to keep scope clean\n",
    "        start_time = time.perf_counter()\n",
    "        result = func(*args, **kwargs)\n",
    "        end_time = time.perf_counter()\n",
    "        execution_time = end_time - start_time\n",
    "        print(f\"INFO: Function '{func.__name__}' executed in {execution_time:.4f} seconds.\")\n",
    "        return result\n",
    "\n",
    "    return wrapper\n",
    "\n",
    "\n",
    "@timed_execution\n",
    "def long_running_simulation(iterations):\n",
    "    \"\"\"\n",
    "    Simulates a long-running numerical simulation.\n",
    "    \"\"\"\n",
    "    total = 0\n",
    "    for i in range(iterations):\n",
    "        total += i * 0.0001  # A small calculation\n",
    "    return total\n",
    "\n",
    "\n",
    "print(\"--- Using @wraps ---\")\n",
    "long_running_simulation(1000000)\n",
    "print(f\"Docstring of long_running_simulation: {long_running_simulation.__doc__}\")\n",
    "print(f\"Name of long_running_simulation: {long_running_simulation.__name__}\")\n",
    "\n",
    "# Without @wraps, __doc__ and __name__ would belong to the 'wrapper' function\n"
   ]
  },
  {
   "cell_type": "code",
   "execution_count": 24,
   "id": "0139e70f",
   "metadata": {},
   "outputs": [
    {
     "name": "stdout",
     "output_type": "stream",
     "text": [
      "\n",
      "--- Retry Demo ---\n",
      "Try 1 of 3\n",
      "Error: Network error.\n",
      "Try 2 of 3\n",
      "Error: Network error.\n",
      "Try 3 of 3\n",
      "Error: Network error.\n",
      "All attempts failed.\n"
     ]
    }
   ],
   "source": [
    "import random\n",
    "\n",
    "class TryAgain:\n",
    "    def __init__(self, max_tries=3):\n",
    "        self.max_tries = max_tries\n",
    "\n",
    "    def __call__(self, func):\n",
    "        def wrapper(*args, **kwargs):\n",
    "            for i in range(1, self.max_tries + 1):\n",
    "                try:\n",
    "                    print(f\"Try {i} of {self.max_tries}\")\n",
    "                    return func(*args, **kwargs)\n",
    "                except Exception as e:\n",
    "                    print(\"Error:\", e)\n",
    "            print(\"All attempts failed.\")\n",
    "        return wrapper\n",
    "\n",
    "@TryAgain(max_tries=3)\n",
    "def submit_test():\n",
    "    if random.random() < 0.7:\n",
    "        raise Exception(\"Network error.\")\n",
    "    print(\"Test submitted successfully!\")\n",
    "\n",
    "print(\"\\n--- Retry Demo ---\")\n",
    "submit_test()"
   ]
  },
  {
   "cell_type": "code",
   "execution_count": 25,
   "id": "8dc5bac7",
   "metadata": {},
   "outputs": [
    {
     "name": "stdout",
     "output_type": "stream",
     "text": [
      "\n",
      "--- Applying Class-Based Decorator (Retry) ---\n",
      "Attempt 1/3 for 'unstable_network_call'...\n",
      "Successfully sent data packet: Telemetry_Packet_A\n",
      "'unstable_network_call' succeeded on attempt 1.\n",
      "Attempt 1/3 for 'unstable_network_call'...\n",
      "'unstable_network_call' failed on attempt 1: Network connection unstable.\n",
      "Attempt 2/3 for 'unstable_network_call'...\n",
      "'unstable_network_call' failed on attempt 2: Network connection unstable.\n",
      "Attempt 3/3 for 'unstable_network_call'...\n",
      "'unstable_network_call' failed on attempt 3: Network connection unstable.\n",
      "'unstable_network_call' failed after 3 attempts.\n",
      "Caught top-level error: Network connection unstable.\n"
     ]
    }
   ],
   "source": [
    "import functools\n",
    "\n",
    "\n",
    "class RetryDecorator:\n",
    "    \"\"\"\n",
    "    A class-based decorator to retry a function call N times on failure.\n",
    "    \"\"\"\n",
    "    def __init__(self, max_retries=3, delay_sec=1):\n",
    "        self.max_retries = max_retries\n",
    "        self.delay_sec = delay_sec\n",
    "        # We use functools.wraps here too for class-based decorators\n",
    "        # if we want to preserve metadata, usually on the __call__ method\n",
    "\n",
    "    def __call__(self, func):\n",
    "        @functools.wraps(func)  # Apply wraps to the actual callable wrapper\n",
    "        def wrapper(*args, **kwargs):\n",
    "            import time\n",
    "            for attempt in range(1, self.max_retries + 1):\n",
    "                try:\n",
    "                    print(f\"Attempt {attempt}/{self.max_retries} for '{func.__name__}'...\")\n",
    "                    result = func(*args, **kwargs)\n",
    "                    print(f\"'{func.__name__}' succeeded on attempt {attempt}.\")\n",
    "                    return result\n",
    "                except Exception as e:\n",
    "                    print(f\"'{func.__name__}' failed on attempt {attempt}: {e}\")\n",
    "                    if attempt < self.max_retries:\n",
    "                        time.sleep(self.delay_sec)\n",
    "                        self.delay_sec *= 2  # Exponential backoff for example\n",
    "                    else:\n",
    "                        print(f\"'{func.__name__}' failed after {self.max_retries} attempts.\")\n",
    "                        raise  # Re-raise the last exception\n",
    "\n",
    "        return wrapper\n",
    "\n",
    "\n",
    "@RetryDecorator(max_retries=3, delay_sec=0.5)\n",
    "def unstable_network_call(data_packet):\n",
    "    \"\"\"Simulates an unstable network call that fails sometimes.\"\"\"\n",
    "    import random\n",
    "    if random.random() < 0.7:  # 70% chance of failure\n",
    "        raise ConnectionError(\"Network connection unstable.\")\n",
    "    print(f\"Successfully sent data packet: {data_packet}\")\n",
    "    return \"Data sent\"\n",
    "\n",
    "\n",
    "print(\"\\n--- Applying Class-Based Decorator (Retry) ---\")\n",
    "try:\n",
    "    unstable_network_call(\"Telemetry_Packet_A\")\n",
    "    unstable_network_call(\"Calibration_Request_B\")\n",
    "except ConnectionError as e:\n",
    "    print(f\"Caught top-level error: {e}\")\n"
   ]
  },
  {
   "cell_type": "code",
   "execution_count": 26,
   "id": "411bd46f",
   "metadata": {},
   "outputs": [
    {
     "name": "stdout",
     "output_type": "stream",
     "text": [
      "\n",
      "--- Using Cache ---\n",
      "Calculating square of 4...\n",
      "16\n",
      "16\n",
      "Calculating square of 5...\n",
      "25\n",
      "16\n"
     ]
    }
   ],
   "source": [
    "from functools import lru_cache\n",
    "import time\n",
    "\n",
    "@lru_cache(maxsize=10)\n",
    "def square(n):\n",
    "    print(f\"Calculating square of {n}...\")\n",
    "    time.sleep(1)\n",
    "    return n * n\n",
    "\n",
    "print(\"\\n--- Using Cache ---\")\n",
    "print(square(4))  # Slow\n",
    "print(square(4))  # Fast\n",
    "print(square(5))  # Slow\n",
    "print(square(4))  # From cache"
   ]
  },
  {
   "cell_type": "code",
   "execution_count": 9,
   "id": "e6aa6af8",
   "metadata": {},
   "outputs": [
    {
     "name": "stdout",
     "output_type": "stream",
     "text": [
      "--- Using functools.lru_cache ---\n",
      "Performing complex calculation for 10...\n",
      "Result 1: 1237.56\n",
      "Performing complex calculation for 20...\n",
      "Result 2: 2475.12\n",
      "Result 3: 1237.56\n",
      "Performing complex calculation for 30...\n",
      "Result 4: 3705.6800000000003\n",
      "Result 5: 2475.12\n",
      "\n",
      "Cache Info: CacheInfo(hits=2, misses=3, maxsize=128, currsize=3)\n",
      "Cache Info after clear: CacheInfo(hits=0, misses=0, maxsize=128, currsize=0)\n",
      "Performing complex calculation for 10...\n",
      "Result 6: 1237.56\n"
     ]
    }
   ],
   "source": [
    "import functools\n",
    "import time\n",
    "\n",
    "\n",
    "@functools.lru_cache(maxsize=128)  # Cache up to 128 unique calls\n",
    "def fetch_complex_calculation(input_param):\n",
    "    \"\"\"\n",
    "    Simulates a complex, time-consuming calculation or data retrieval.\n",
    "    \"\"\"\n",
    "    print(f\"Performing complex calculation for {input_param}...\")\n",
    "    time.sleep(0.5)  # Simulate delay\n",
    "    result = input_param * 123.456 + (input_param % 7)\n",
    "    return result\n",
    "\n",
    "\n",
    "print(\"--- Using functools.lru_cache ---\")\n",
    "print(f\"Result 1: {fetch_complex_calculation(10)}\")  # Calculated\n",
    "print(f\"Result 2: {fetch_complex_calculation(20)}\")  # Calculated\n",
    "print(f\"Result 3: {fetch_complex_calculation(10)}\")  # Cached\n",
    "print(f\"Result 4: {fetch_complex_calculation(30)}\")  # Calculated\n",
    "print(f\"Result 5: {fetch_complex_calculation(20)}\")  # Cached\n",
    "\n",
    "# Inspect cache statistics\n",
    "print(f\"\\nCache Info: {fetch_complex_calculation.cache_info()}\")\n",
    "\n",
    "# Clear the cache\n",
    "fetch_complex_calculation.cache_clear()\n",
    "print(f\"Cache Info after clear: {fetch_complex_calculation.cache_info()}\")\n",
    "print(f\"Result 6: {fetch_complex_calculation(10)}\")  # Recalculated after clear"
   ]
  },
  {
   "cell_type": "code",
   "execution_count": 27,
   "id": "38099b38",
   "metadata": {},
   "outputs": [
    {
     "name": "stdout",
     "output_type": "stream",
     "text": [
      "\n",
      "--- Single Dispatch Demo ---\n",
      "Integer: 42\n",
      "String in caps: HELLO\n",
      "List with 3 items.\n",
      "Default handler: {'a': 1}\n"
     ]
    }
   ],
   "source": [
    "from functools import singledispatch\n",
    "\n",
    "@singledispatch\n",
    "def show(data):\n",
    "    print(\"Default handler:\", data)\n",
    "\n",
    "@show.register(int)\n",
    "def _(data):\n",
    "    print(\"Integer:\", data)\n",
    "\n",
    "@show.register(str)\n",
    "def _(data):\n",
    "    print(\"String in caps:\", data.upper())\n",
    "\n",
    "@show.register(list)\n",
    "def _(data):\n",
    "    print(\"List with\", len(data), \"items.\")\n",
    "\n",
    "print(\"\\n--- Single Dispatch Demo ---\")\n",
    "show(42)\n",
    "show(\"hello\")\n",
    "show([1, 2, 3])\n",
    "show({\"a\": 1})  # falls back to default"
   ]
  },
  {
   "cell_type": "code",
   "execution_count": 10,
   "id": "7fca5785",
   "metadata": {},
   "outputs": [
    {
     "name": "stdout",
     "output_type": "stream",
     "text": [
      "--- Using functools.singledispatch ---\n",
      "Processing numerical sensor value: 100.00 units (Type: int)\n",
      "Processing numerical sensor value: 99.50 units (Type: float)\n",
      "Processing string status message: 'OPERATIONAL' (Type: str)\n",
      "Processing batch of readings (List): Average = 20.00\n",
      "Processing mixed list: [1, 'error', 3]\n",
      "Processing unknown sensor input type: dict -> {'id': 'XYZ'}\n"
     ]
    }
   ],
   "source": [
    "from functools import singledispatch\n",
    "from typing import Union, List\n",
    "\n",
    "\n",
    "@singledispatch\n",
    "def process_sensor_input(data_input):\n",
    "    \"\"\"\n",
    "    Generic function to process various types of sensor input.\n",
    "    Default implementation.\n",
    "    \"\"\"\n",
    "    print(f\"Processing unknown sensor input type: {type(data_input).__name__} -> {data_input}\")\n",
    "\n",
    "\n",
    "@process_sensor_input.register(int)\n",
    "@process_sensor_input.register(float)\n",
    "def _(data_input: Union[int, float]):\n",
    "    \"\"\"Registers for int and float types. Converts to string with units.\"\"\"\n",
    "    print(f\"Processing numerical sensor value: {data_input:.2f} units (Type: {type(data_input).__name__})\")\n",
    "\n",
    "\n",
    "@process_sensor_input.register(str)\n",
    "def _(data_input: str):\n",
    "    \"\"\"Registers for string type. Parses as a status message.\"\"\"\n",
    "    print(f\"Processing string status message: '{data_input.upper()}' (Type: {type(data_input).__name__})\")\n",
    "\n",
    "\n",
    "@process_sensor_input.register(list)\n",
    "def _(data_input: List):\n",
    "    \"\"\"Registers for list type. Processes as a batch of readings.\"\"\"\n",
    "    if all(isinstance(x, (int, float)) for x in data_input):\n",
    "        avg = sum(data_input) / len(data_input) if data_input else 0\n",
    "        print(f\"Processing batch of readings (List): Average = {avg:.2f}\")\n",
    "    else:\n",
    "        print(f\"Processing mixed list: {data_input}\")\n",
    "\n",
    "\n",
    "print(\"--- Using functools.singledispatch ---\")\n",
    "process_sensor_input(100)             # Calls int/float version\n",
    "process_sensor_input(99.5)            # Calls int/float version\n",
    "process_sensor_input(\"OPERATIONAL\")   # Calls str version\n",
    "process_sensor_input([10, 20, 30])    # Calls list version (numerical)\n",
    "process_sensor_input([1, \"error\", 3]) # Calls list version (mixed)\n",
    "process_sensor_input({\"id\": \"XYZ\"})   # Calls default version (dict not registered)\n"
   ]
  }
 ],
 "metadata": {
  "kernelspec": {
   "display_name": "urscenv",
   "language": "python",
   "name": "python3"
  },
  "language_info": {
   "codemirror_mode": {
    "name": "ipython",
    "version": 3
   },
   "file_extension": ".py",
   "mimetype": "text/x-python",
   "name": "python",
   "nbconvert_exporter": "python",
   "pygments_lexer": "ipython3",
   "version": "3.13.5"
  }
 },
 "nbformat": 4,
 "nbformat_minor": 5
}
