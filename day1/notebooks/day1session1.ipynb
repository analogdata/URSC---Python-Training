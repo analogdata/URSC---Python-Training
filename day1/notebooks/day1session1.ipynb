{
 "cells": [
  {
   "cell_type": "markdown",
   "id": "59af9c7c",
   "metadata": {},
   "source": [
    "## Day 1 Session 1\n",
    "\n",
    "It Consist's of all the programs from Day 1 Session 1."
   ]
  },
  {
   "cell_type": "code",
   "execution_count": 1,
   "id": "c42ed123",
   "metadata": {},
   "outputs": [
    {
     "name": "stdout",
     "output_type": "stream",
     "text": [
      "Area: 78.53975\n"
     ]
    }
   ],
   "source": [
    "# Python code for the same calculation\n",
    "radius = 5.0\n",
    "PI = 3.14159\n",
    "area = PI * radius * radius\n",
    "print(f\"Area: {area}\")"
   ]
  },
  {
   "cell_type": "code",
   "execution_count": 2,
   "id": "d941a40c-7000-4e1d-bba1-52e9545980b2",
   "metadata": {},
   "outputs": [
    {
     "name": "stdout",
     "output_type": "stream",
     "text": [
      "Hello\n"
     ]
    }
   ],
   "source": [
    "print(\"Hello\")"
   ]
  },
  {
   "cell_type": "code",
   "execution_count": null,
   "id": "daaf5a12-35dc-4d36-a7be-120b6aad5d91",
   "metadata": {},
   "outputs": [],
   "source": []
  },
  {
   "cell_type": "code",
   "execution_count": 48,
   "id": "f07e4c50",
   "metadata": {},
   "outputs": [
    {
     "name": "stdout",
     "output_type": "stream",
     "text": [
      "Our 'sensor data' array: [10.5 20.3 15.7 22.1 18.9]\n",
      "Mean of data: 17.5\n"
     ]
    }
   ],
   "source": [
    "import numpy as np\n",
    "\n",
    "# Create a NumPy array\n",
    "data = np.array([10.5, 20.3, 15.7, 22.1, 18.9])\n",
    "print(f\"Our 'sensor data' array: {data}\")\n",
    "print(f\"Mean of data: {np.mean(data)}\")"
   ]
  },
  {
   "cell_type": "code",
   "execution_count": 4,
   "id": "94ba5394",
   "metadata": {},
   "outputs": [
    {
     "ename": "SyntaxError",
     "evalue": "invalid syntax. Perhaps you forgot a comma? (657221841.py, line 9)",
     "output_type": "error",
     "traceback": [
      "\u001b[0;36m  Cell \u001b[0;32mIn[4], line 9\u001b[0;36m\u001b[0m\n\u001b[0;31m    Bad (incorrect indentation)\u001b[0m\n\u001b[0m         ^\u001b[0m\n\u001b[0;31mSyntaxError\u001b[0m\u001b[0;31m:\u001b[0m invalid syntax. Perhaps you forgot a comma?\n"
     ]
    }
   ],
   "source": [
    "# Good\n",
    "def calculate_area(radius):\n",
    "    if radius > 0:\n",
    "        area = 3.14159 * radius ** 2\n",
    "        return area\n",
    "    else:\n",
    "        return 0\n",
    "\n",
    "Bad (incorrect indentation)\n",
    "def calculate_area(radius):\n",
    "    if radius > 0:\n",
    "    area = 3.14159 * radius ** 2 # Incorrect indentation here\n",
    "        return area\n",
    "    else:\n",
    "    return 0\n"
   ]
  },
  {
   "cell_type": "code",
   "execution_count": 50,
   "id": "a11c6e74",
   "metadata": {},
   "outputs": [],
   "source": [
    "# Good (implicit line continuation)\n",
    "long_list_of_values = [\n",
    "    1.2345, 2.3456, 3.4567, 4.5678, 5.6789,\n",
    "    6.7890, 7.8901, 8.9012, 9.0123, 10.1234\n",
    "]\n",
    "\n",
    "# Good (explicit line continuation - less common for lists, but possible)\n",
    "# very_long_variable_name_to_demonstrate_line_break = \\\n",
    "#     another_very_long_variable_name + some_other_long_expression\n"
   ]
  },
  {
   "cell_type": "code",
   "execution_count": 51,
   "id": "f33a9fcc",
   "metadata": {},
   "outputs": [],
   "source": [
    "# Good naming conventions\n",
    "class TelemetryPacket:\n",
    "    MAX_SIGNAL_STRENGTH = 100.0\n",
    "\n",
    "    def __init__(self, timestamp, sensor_reading):\n",
    "        self.timestamp = timestamp\n",
    "        self.sensor_reading = sensor_reading\n",
    "\n",
    "    def process_data(self):\n",
    "        # ... processing logic ...\n",
    "        return self.sensor_reading * 2\n",
    "\n",
    "# Bad naming conventions (examples)\n",
    "# class telemetrypacket: # should be PascalCase\n",
    "#     maxsignalstrength = 100.0 # should be ALL_CAPS\n",
    "#     def processData(self): # should be snake_case\n",
    "#         pass\n"
   ]
  },
  {
   "cell_type": "code",
   "execution_count": 5,
   "id": "95d09707",
   "metadata": {},
   "outputs": [],
   "source": [
    "def function_one():\n",
    "    pass\n",
    "\n",
    "def function_two():\n",
    "    pass\n",
    "\n",
    "class MyClass:\n",
    "    def method_a(self):\n",
    "        # Logical block 1\n",
    "        x = 10\n",
    "        y = 20\n",
    "\n",
    "        # Logical block 2\n",
    "        result = x + y\n",
    "        print(result)\n",
    "\n",
    "    def method_b(self):\n",
    "        pass"
   ]
  },
  {
   "cell_type": "code",
   "execution_count": 53,
   "id": "08774db1",
   "metadata": {},
   "outputs": [],
   "source": [
    "import os\n",
    "import sys\n",
    "\n",
    "import numpy as np\n",
    "import pandas as pd\n",
    "\n",
    "# from my_module import some_function\n",
    "# from .subpackage import another_utility"
   ]
  },
  {
   "cell_type": "code",
   "execution_count": 54,
   "id": "8e22494d",
   "metadata": {},
   "outputs": [
    {
     "name": "stdout",
     "output_type": "stream",
     "text": [
      "Value of x: 10, Type of x: <class 'int'>\n",
      "Value of x: Hello, Python\\!, Type of x: <class 'str'>\n",
      "Value of x: 3.14159, Type of x: <class 'float'>\n",
      "Result 1 (integers): 8\n",
      "Result 2 (strings): Hello World\n",
      "Error: unsupported operand type(s) for +: 'int' and 'str' - This happened because of dynamic typing allowing mixed types.\n"
     ]
    }
   ],
   "source": [
    "# 'x' initially holds an integer\n",
    "x = 10\n",
    "print(f\"Value of x: {x}, Type of x: {type(x)}\")\n",
    "\n",
    "# Now 'x' holds a string\n",
    "x = \"Hello, Python\\!\"\n",
    "print(f\"Value of x: {x}, Type of x: {type(x)}\")\n",
    "\n",
    "# Now 'x' holds a float\n",
    "x = 3.14159\n",
    "print(f\"Value of x: {x}, Type of x: {type(x)}\")\n",
    "\n",
    "# Example of a potential runtime error due to unexpected type\n",
    "def add_two_numbers(a, b):\n",
    "    return a + b\n",
    "\n",
    "result1 = add_two_numbers(5, 3)\n",
    "print(f\"Result 1 (integers): {result1}\")\n",
    "\n",
    "# This will work because Python knows how to add strings\n",
    "result2 = add_two_numbers(\"Hello \", \"World\")\n",
    "print(f\"Result 2 (strings): {result2}\")\n",
    "\n",
    "# This will cause a TypeError at runtime\n",
    "try:\n",
    "    result3 = add_two_numbers(5, \"three\")\n",
    "    print(f\"Result 3: {result3}\")\n",
    "except TypeError as e:\n",
    "    print(f\"Error: {e} - This happened because of dynamic typing allowing mixed types.\")"
   ]
  },
  {
   "cell_type": "code",
   "execution_count": 6,
   "id": "5781bb76-afaa-4a7f-a903-9bbd15b625d4",
   "metadata": {},
   "outputs": [
    {
     "data": {
      "text/plain": [
       "int"
      ]
     },
     "execution_count": 6,
     "metadata": {},
     "output_type": "execute_result"
    }
   ],
   "source": [
    "x = 8\n",
    "type(x)"
   ]
  },
  {
   "cell_type": "code",
   "execution_count": 7,
   "id": "09744b9f-26db-437e-a500-3149cd6e1162",
   "metadata": {},
   "outputs": [
    {
     "data": {
      "text/plain": [
       "str"
      ]
     },
     "execution_count": 7,
     "metadata": {},
     "output_type": "execute_result"
    }
   ],
   "source": [
    "x = 'string'\n",
    "type(x)"
   ]
  },
  {
   "cell_type": "code",
   "execution_count": 55,
   "id": "d1b16cd7",
   "metadata": {},
   "outputs": [
    {
     "name": "stdout",
     "output_type": "stream",
     "text": [
      "Initial integer a: 10, ID: 4376128136\n",
      "b = a, Integer b: 10, ID: 4376128136\n",
      "After a += 1, Integer a: 11, ID: 4376128168\n",
      "Integer b (unchanged): 10, ID: 4376128136\n",
      "\n",
      "--- Strings ---\n",
      "Initial string s1: Hello, ID: 5155612368\n",
      "s2 = s1, String s2: Hello, ID: 5155612368\n",
      "After s1 += ' World', String s1: Hello World, ID: 5411210608\n",
      "String s2 (unchanged): Hello, ID: 5155612368\n",
      "\n",
      "--- Tuples ---\n",
      "Initial tuple t1: (1, 2, 3), ID: 5411192960\n",
      "After reassigning t1: (4, 5, 6), ID: 5411199424\n"
     ]
    }
   ],
   "source": [
    "# --- Integers ---\n",
    "a = 10\n",
    "print(f\"Initial integer a: {a}, ID: {id(a)}\")\n",
    "b = a  # 'b' now refers to the same object as 'a'\n",
    "print(f\"b = a, Integer b: {b}, ID: {id(b)}\")\n",
    "\n",
    "a += 1  # This creates a new integer object for 'a'\n",
    "print(f\"After a += 1, Integer a: {a}, ID: {id(a)}\")\n",
    "print(f\"Integer b (unchanged): {b}, ID: {id(b)}\") # b still refers to the old 10 object\n",
    "\n",
    "print(\"\\n--- Strings ---\")\n",
    "s1 = \"Hello\"\n",
    "print(f\"Initial string s1: {s1}, ID: {id(s1)}\")\n",
    "\n",
    "s2 = s1 # s2 points to the same object\n",
    "print(f\"s2 = s1, String s2: {s2}, ID: {id(s2)}\")\n",
    "\n",
    "s1 += \" World\" # This creates a *new* string object for s1\n",
    "print(f\"After s1 += ' World', String s1: {s1}, ID: {id(s1)}\")\n",
    "print(f\"String s2 (unchanged): {s2}, ID: {id(s2)}\") # s2 still points to the original \"Hello\"\n",
    "\n",
    "print(\"\\n--- Tuples ---\")\n",
    "t1 = (1, 2, 3)\n",
    "print(f\"Initial tuple t1: {t1}, ID: {id(t1)}\")\n",
    "\n",
    "# Attempting to modify a tuple raises an error\n",
    "try:\n",
    "    t1 = 99\n",
    "except TypeError as e:\n",
    "    print(f\"Error attempting to modify tuple: {e}\")\n",
    "\n",
    "# If we 'reassign' a tuple, it's a new tuple\n",
    "t1 = (4, 5, 6)\n",
    "print(f\"After reassigning t1: {t1}, ID: {id(t1)}\")\n"
   ]
  },
  {
   "cell_type": "code",
   "execution_count": 56,
   "id": "25fbf620",
   "metadata": {},
   "outputs": [
    {
     "name": "stdout",
     "output_type": "stream",
     "text": [
      "--- Lists ---\n",
      "Initial list1: [1, 2, 3, True, 'ABC'], ID: 5411210112\n",
      "list2 = list1, List2: [1, 2, 3, True, 'ABC'], ID: 5411210112\n",
      "After list1.append(4), List1: [1, 2, 3, True, 'ABC', 4], ID: 5411210112\n",
      "List2 (changed\\!): [1, 2, 3, True, 'ABC', 4], ID: 5411210112\n",
      "\n",
      "--- Dictionaries ---\n",
      "Initial dict1: {'a': 1, 'b': 2}, ID: 5410758208\n",
      "dict2 = dict1, Dict2: {'a': 1, 'b': 2}, ID: 5410758208\n",
      "After dict1['c'] = 3, Dict1: {'a': 1, 'b': 2, 'c': 3}, ID: 5410758208\n",
      "Dict2 (changed\\!): {'a': 1, 'b': 2, 'c': 3}, ID: 5410758208\n",
      "\n",
      "--- Sets ---\n",
      "Initial set1: {1, 2, 3}, ID: 5154579936\n",
      "set2 = set1, Set2: {1, 2, 3}, ID: 5154579936\n",
      "After set1.add(4), Set1: {1, 2, 3, 4}, ID: 5154579936\n",
      "Set2 (changed\\!): {1, 2, 3, 4}, ID: 5154579936\n"
     ]
    }
   ],
   "source": [
    "print(\"--- Lists ---\")\n",
    "list1 = [1, 2, 3, True, 'ABC']\n",
    "print(f\"Initial list1: {list1}, ID: {id(list1)}\")\n",
    "\n",
    "list2 = list1 # list2 refers to the *same* object as list1\n",
    "print(f\"list2 = list1, List2: {list2}, ID: {id(list2)}\")\n",
    "\n",
    "list1.append(4) # In-place modification\n",
    "print(f\"After list1.append(4), List1: {list1}, ID: {id(list1)}\")\n",
    "print(f\"List2 (changed\\!): {list2}, ID: {id(list2)}\") # list2 reflects the change\\!\n",
    "\n",
    "print(\"\\n--- Dictionaries ---\")\n",
    "dict1 = {'a': 1, 'b': 2}\n",
    "print(f\"Initial dict1: {dict1}, ID: {id(dict1)}\")\n",
    "\n",
    "dict2 = dict1 # dict2 refers to the *same* object as dict1\n",
    "print(f\"dict2 = dict1, Dict2: {dict2}, ID: {id(dict2)}\")\n",
    "\n",
    "dict1['c'] = 3 # In-place modification\n",
    "print(f\"After dict1['c'] = 3, Dict1: {dict1}, ID: {id(dict1)}\")\n",
    "print(f\"Dict2 (changed\\!): {dict2}, ID: {id(dict2)}\") # dict2 reflects the change\\!\n",
    "\n",
    "print(\"\\n--- Sets ---\")\n",
    "set1 = {1, 2, 3}\n",
    "print(f\"Initial set1: {set1}, ID: {id(set1)}\")\n",
    "\n",
    "set2 = set1\n",
    "print(f\"set2 = set1, Set2: {set2}, ID: {id(set2)}\")\n",
    "\n",
    "set1.add(4) # In-place modification\n",
    "print(f\"After set1.add(4), Set1: {set1}, ID: {id(set1)}\")\n",
    "print(f\"Set2 (changed\\!): {set2}, ID: {id(set2)}\")"
   ]
  },
  {
   "cell_type": "code",
   "execution_count": 57,
   "id": "093bd938",
   "metadata": {},
   "outputs": [
    {
     "name": "stdout",
     "output_type": "stream",
     "text": [
      "Hello, Engineers\\!\n",
      "Average sensor reading: 12.875\n"
     ]
    }
   ],
   "source": [
    "from typing import List, Dict, Tuple, Set, Union, Optional, Any, Callable\n",
    "\n",
    "# Basic Types\n",
    "def greet(name: str) -> str:\n",
    "    return f\"Hello, {name}\\!\"\n",
    "\n",
    "print(greet(\"Engineers\"))\n",
    "# print(greet(123)) # MyPy/IDE would flag this as a type error\n",
    "\n",
    "# List of a specific type\n",
    "def calculate_average(numbers: List[float]) -> float:\n",
    "    if not numbers:\n",
    "        return 0.0\n",
    "    return sum(numbers) / len(numbers)\n",
    "\n",
    "sensor_readings: List[float] = [12.5, 13.1, 11.9, 14.0]\n",
    "print(f\"Average sensor reading: {calculate_average(sensor_readings)}\")"
   ]
  },
  {
   "cell_type": "code",
   "execution_count": 13,
   "id": "4454e799-4e05-43ca-b85d-ecf2cf65d3e5",
   "metadata": {},
   "outputs": [],
   "source": [
    "p = l"
   ]
  },
  {
   "cell_type": "code",
   "execution_count": null,
   "id": "fb1b7f7b-e27a-409b-93fc-3ceb40dd0062",
   "metadata": {},
   "outputs": [],
   "source": []
  },
  {
   "cell_type": "code",
   "execution_count": null,
   "id": "cad7605c-a50f-4c7e-8345-14ccad95f0a2",
   "metadata": {},
   "outputs": [],
   "source": []
  },
  {
   "cell_type": "code",
   "execution_count": 58,
   "id": "3fbfeb24",
   "metadata": {},
   "outputs": [
    {
     "name": "stdout",
     "output_type": "stream",
     "text": [
      "Processed config: {'mode': 'AUTO', 'threshold': '50', 'unit': 'KPA'}\n"
     ]
    }
   ],
   "source": [
    "# Dictionary with specific key and value types\n",
    "def process_config(config: Dict[str, Union[str, int]]) -> Dict[str, str]:\n",
    "    processed = {}\n",
    "    for key, value in config.items():\n",
    "        processed[key] = str(value).upper()\n",
    "    return processed\n",
    "\n",
    "system_config: Dict[str, Union[str, int]] = {\"mode\": \"auto\", \"threshold\": 50, \"unit\": \"kPa\"}\n",
    "print(f\"Processed config: {process_config(system_config)}\")"
   ]
  },
  {
   "cell_type": "code",
   "execution_count": null,
   "id": "8ac5875e-00b8-4da2-9f3e-37915a2c27fc",
   "metadata": {},
   "outputs": [],
   "source": []
  },
  {
   "cell_type": "code",
   "execution_count": null,
   "id": "634ba17a-17ac-4a14-a47f-1a165c47a628",
   "metadata": {},
   "outputs": [],
   "source": []
  },
  {
   "cell_type": "code",
   "execution_count": null,
   "id": "6a1ddffe-d8ab-4dfa-a7b3-63c8d69d794c",
   "metadata": {},
   "outputs": [],
   "source": []
  },
  {
   "cell_type": "code",
   "execution_count": 10,
   "id": "813047b5-5859-4c0e-814f-8ef4896b07c8",
   "metadata": {},
   "outputs": [],
   "source": [
    "l = [1,2,3,4]"
   ]
  },
  {
   "cell_type": "code",
   "execution_count": 11,
   "id": "3dd5bcc6-395b-4c46-882e-87d3816bea92",
   "metadata": {},
   "outputs": [
    {
     "data": {
      "text/plain": [
       "[1, 2, 3, 4]"
      ]
     },
     "execution_count": 11,
     "metadata": {},
     "output_type": "execute_result"
    }
   ],
   "source": [
    "l"
   ]
  },
  {
   "cell_type": "code",
   "execution_count": null,
   "id": "9de4d7c9-0928-4117-9eaf-8736f95898bc",
   "metadata": {},
   "outputs": [],
   "source": []
  },
  {
   "cell_type": "code",
   "execution_count": 12,
   "id": "5718aed1-4747-48c3-a911-7661ae0bbbe5",
   "metadata": {},
   "outputs": [],
   "source": [
    "p = l"
   ]
  },
  {
   "cell_type": "code",
   "execution_count": null,
   "id": "a7510147-3700-4c8a-9eb1-c534f2a52709",
   "metadata": {},
   "outputs": [],
   "source": []
  },
  {
   "cell_type": "code",
   "execution_count": null,
   "id": "9cf5339b-c1d0-4fee-881f-6622f155a4d1",
   "metadata": {},
   "outputs": [],
   "source": []
  },
  {
   "cell_type": "code",
   "execution_count": null,
   "id": "bb30011e-b48a-4e53-ab06-b0135a5d0431",
   "metadata": {},
   "outputs": [],
   "source": []
  },
  {
   "cell_type": "code",
   "execution_count": null,
   "id": "4a3fbe32-e192-4516-9703-2e660488def7",
   "metadata": {},
   "outputs": [],
   "source": []
  },
  {
   "cell_type": "code",
   "execution_count": null,
   "id": "24a6ef15-a7f3-44a7-886e-f2140ae20fd4",
   "metadata": {},
   "outputs": [],
   "source": []
  },
  {
   "cell_type": "code",
   "execution_count": null,
   "id": "a0b494ae-a66d-4b59-8255-0e739a828fe4",
   "metadata": {},
   "outputs": [],
   "source": []
  },
  {
   "cell_type": "code",
   "execution_count": 59,
   "id": "189caab6",
   "metadata": {},
   "outputs": [
    {
     "name": "stdout",
     "output_type": "stream",
     "text": [
      "Coordinates: X=10.5, Y=20.3, Z=5.1\n",
      "Number of unique device IDs: 3\n"
     ]
    }
   ],
   "source": [
    "# Tuple with specific types\n",
    "def get_coordinates() -> Tuple[float, float, float]:\n",
    "    return (10.5, 20.3, 5.1)\n",
    "\n",
    "x, y, z = get_coordinates()\n",
    "print(f\"Coordinates: X={x}, Y={y}, Z={z}\")\n",
    "\n",
    "# Set of a specific type\n",
    "def unique_ids(ids: Set[int]) -> int:\n",
    "    return len(ids)\n",
    "\n",
    "device_ids: Set[int] = {101, 105, 101, 109} # Duplicates are automatically handled by set\n",
    "print(f\"Number of unique device IDs: {unique_ids(device_ids)}\")"
   ]
  },
  {
   "cell_type": "code",
   "execution_count": 60,
   "id": "90063997",
   "metadata": {},
   "outputs": [
    {
     "name": "stdout",
     "output_type": "stream",
     "text": [
      "Input value: 10, type: int\n",
      "Input value: 3.14, type: float\n",
      "Input value: data_string, type: str\n",
      "Status for 200: Operation successful\n",
      "Status for 404: Resource not found\n",
      "Status for 500: None\n"
     ]
    }
   ],
   "source": [
    "# Union: accepts one of several types\n",
    "def process_input(value: Union[int, float, str]) -> str:\n",
    "    return f\"Input value: {value}, type: {type(value).__name__}\"\n",
    "\n",
    "print(process_input(10))\n",
    "print(process_input(3.14))\n",
    "print(process_input(\"data_string\"))\n",
    "\n",
    "# Optional: indicates a value can be either the specified type or None\n",
    "# Equivalent to Union[str, None]\n",
    "def get_status_message(code: int) -> Optional[str]:\n",
    "    if code == 200:\n",
    "        return \"Operation successful\"\n",
    "    elif code == 404:\n",
    "        return \"Resource not found\"\n",
    "    return None # Explicitly returns None\n",
    "\n",
    "print(f\"Status for 200: {get_status_message(200)}\")\n",
    "print(f\"Status for 404: {get_status_message(404)}\")\n",
    "print(f\"Status for 500: {get_status_message(500)}\")"
   ]
  },
  {
   "cell_type": "code",
   "execution_count": 61,
   "id": "262caeb7",
   "metadata": {},
   "outputs": [
    {
     "name": "stdout",
     "output_type": "stream",
     "text": [
      "Logging event data: {'message': 'Sensor online', 'level': 'INFO'} (Type: dict)\n",
      "Logging event data: 12345 (Type: int)\n",
      "Logging event data: Sensor offline (Type: str)\n"
     ]
    }
   ],
   "source": [
    "# Any: use when the type is unknown or can vary widely (use sparingly)\n",
    "def log_event(data: Any) -> None:\n",
    "    print(f\"Logging event data: {data} (Type: {type(data).__name__})\")\n",
    "\n",
    "log_event({\"message\": \"Sensor online\", \"level\": \"INFO\"})\n",
    "log_event(12345)\n",
    "log_event(\"Sensor offline\")\n"
   ]
  },
  {
   "cell_type": "code",
   "execution_count": 62,
   "id": "27437cbb",
   "metadata": {},
   "outputs": [
    {
     "name": "stdout",
     "output_type": "stream",
     "text": [
      "Applied multiply: [2.0, 6.0, 12.0]\n",
      "Applied add: [3.0, 5.0, 7.0]\n"
     ]
    }
   ],
   "source": [
    "# Callable: for functions as arguments\n",
    "def apply_operation(numbers: List[float], op: Callable[[float, float], float]) -> List[float]:\n",
    "    results = []\n",
    "    if len(numbers) < 2:\n",
    "        return numbers\n",
    "    for i in range(len(numbers) - 1):\n",
    "        results.append(op(numbers[i], numbers[i+1]))\n",
    "    return results\n",
    "\n",
    "def multiply(a: float, b: float) -> float:\n",
    "    return a * b\n",
    "\n",
    "print(f\"Applied multiply: {apply_operation([1.0, 2.0, 3.0, 4.0], multiply)}\")\n",
    "\n",
    "def add(a: float, b: float) -> float:\n",
    "    return a + b\n",
    "\n",
    "print(f\"Applied add: {apply_operation([1.0, 2.0, 3.0, 4.0], add)}\")"
   ]
  },
  {
   "cell_type": "code",
   "execution_count": 63,
   "id": "2d229eb5",
   "metadata": {},
   "outputs": [
    {
     "name": "stdout",
     "output_type": "stream",
     "text": [
      "\n",
      "Annotations for calculate_checksum: {'data': <class 'bytes'>, 'algorithm': <class 'str'>, 'return': <class 'int'>}\n",
      "Calculated checksum: 15\n"
     ]
    }
   ],
   "source": [
    "# Function with an annotation for a parameter and return value\n",
    "# In this case, the annotations are type hints.\n",
    "def calculate_checksum(data: bytes, algorithm: str) -> int:\n",
    "    \"\"\"\n",
    "    Calculates a checksum for the given byte data using the specified algorithm.\n",
    "    \"\"\"\n",
    "    if algorithm == \"crc32\":\n",
    "        # Simulate CRC32 calculation\n",
    "        return sum(data) % 256\n",
    "    else:\n",
    "        raise ValueError(\"Unsupported algorithm\")\n",
    "\n",
    "# Accessing annotations (for advanced introspection, not common daily use)\n",
    "print(f\"\\nAnnotations for calculate_checksum: {calculate_checksum.__annotations__}\")\n",
    "\n",
    "# Example usage\n",
    "packet_data = b'\\x01\\x02\\x03\\x04\\x05'\n",
    "checksum = calculate_checksum(packet_data, \"crc32\")\n",
    "print(f\"Calculated checksum: {checksum}\")"
   ]
  },
  {
   "cell_type": "code",
   "execution_count": null,
   "id": "2291eedd",
   "metadata": {},
   "outputs": [],
   "source": []
  }
 ],
 "metadata": {
  "kernelspec": {
   "display_name": "Python 3 (ipykernel)",
   "language": "python",
   "name": "python3"
  },
  "language_info": {
   "codemirror_mode": {
    "name": "ipython",
    "version": 3
   },
   "file_extension": ".py",
   "mimetype": "text/x-python",
   "name": "python",
   "nbconvert_exporter": "python",
   "pygments_lexer": "ipython3",
   "version": "3.13.5"
  }
 },
 "nbformat": 4,
 "nbformat_minor": 5
}
