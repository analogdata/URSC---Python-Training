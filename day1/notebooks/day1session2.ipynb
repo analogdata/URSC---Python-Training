{
 "cells": [
  {
   "cell_type": "markdown",
   "id": "efc8ff3f",
   "metadata": {},
   "source": [
    "## Day 1 Session 2\n",
    "\n",
    "It Consist's of all the programs from Day 1 Session 2."
   ]
  },
  {
   "cell_type": "code",
   "execution_count": 22,
   "id": "eef46f9b",
   "metadata": {},
   "outputs": [
    {
     "name": "stdout",
     "output_type": "stream",
     "text": [
      "Sensor Type: Temperature, Reading: 25.73 °C\n",
      "Sensor Type: Temperature, Reading: 25.73 °C\n",
      "Sensor Type: Temperature, Reading: 25.73 °C\n",
      "Sensor Reading: 25.73°C, Status: High\n",
      "Pressure: 14.7 PSI (approx. 101.35 kPa)\n"
     ]
    }
   ],
   "source": [
    "# Example: Displaying sensor readings with units\n",
    "sensor_type = \"Temperature\"\n",
    "reading_celsius = 25.734\n",
    "unit = \"°C\"\n",
    "\n",
    "# Traditional string formatting (less readable)\n",
    "print(\"Sensor Type: %s, Reading: %.2f %s\" % (sensor_type, reading_celsius, unit))\n",
    "print(\"Sensor Type: {}, Reading: {:.2f} {}\".format(sensor_type, reading_celsius, unit))\n",
    "\n",
    "# F-string (most readable and concise)\n",
    "print(f\"Sensor Type: {sensor_type}, Reading: {reading_celsius:.2f} {unit}\")\n",
    "\n",
    "# Embed expressions directly\n",
    "threshold = 25.0\n",
    "status = \"OK\" if reading_celsius <= threshold else \"High\"\n",
    "print(f\"Sensor Reading: {reading_celsius:.2f}{unit}, Status: {status}\")\n",
    "\n",
    "# Calculations inside f-strings\n",
    "pressure_psi = 14.7\n",
    "pressure_pa = pressure_psi * 6894.76\n",
    "print(f\"Pressure: {pressure_psi:.1f} PSI (approx. {pressure_pa/1000:.2f} kPa)\")\n"
   ]
  },
  {
   "cell_type": "code",
   "execution_count": 23,
   "id": "e9d7b94f",
   "metadata": {},
   "outputs": [
    {
     "name": "stdout",
     "output_type": "stream",
     "text": [
      "Cleaned entry: 'ERROR: Connection lost to Sensor_A at 2025-06-19 14:30:05'\n",
      "This is an error log.\n",
      "Parts: ['ERROR', 'Connection lost to Sensor_A at 2025-06-19 14:30:05']\n",
      "Log Level: ERROR, Message: Connection lost to Sensor_A at 2025-06-19 14:30:05\n",
      "Formatted Message: Connection lost to Telemetry_Unit_01 at 2025-06-19 14:30:05\n",
      "The connection was indeed lost.\n",
      "Full data path: data/sensors/temperature_log.csv\n"
     ]
    }
   ],
   "source": [
    "# Practical examples of string methods\n",
    "log_entry = \" ERROR: Connection lost to Sensor_A at 2025-06-19 14:30:05 \"\n",
    "\n",
    "# Clean and parse the log entry\n",
    "cleaned_entry = log_entry.strip()\n",
    "print(f\"Cleaned entry: '{cleaned_entry}'\")\n",
    "\n",
    "# Check for error type\n",
    "if cleaned_entry.startswith(\"ERROR\"):\n",
    "    print(\"This is an error log.\")\n",
    "\n",
    "# Extract components using split\n",
    "parts = cleaned_entry.split(': ', 1)  # Only split at the first \": \"\n",
    "print(f\"Parts: {parts}\")\n",
    "log_level = parts[0]\n",
    "message = parts[1]\n",
    "print(f\"Log Level: {log_level}, Message: {message}\")\n",
    "\n",
    "# Replace a component\n",
    "formatted_message = message.replace(\"Sensor_A\", \"Telemetry_Unit_01\")\n",
    "print(f\"Formatted Message: {formatted_message}\")\n",
    "\n",
    "# Check if a substring exists\n",
    "if \"Connection lost\" in formatted_message:\n",
    "    print(\"The connection was indeed lost.\")\n",
    "\n",
    "# Joining elements to form a path\n",
    "path_components = ['data', 'sensors', 'temperature_log.csv']\n",
    "full_path = '/'.join(path_components)\n",
    "print(f\"Full data path: {full_path}\")\n"
   ]
  },
  {
   "cell_type": "code",
   "execution_count": 24,
   "id": "929aaeec",
   "metadata": {},
   "outputs": [
    {
     "name": "stdout",
     "output_type": "stream",
     "text": [
      "Satellite Code: SC\n",
      "Year: 2025\n",
      "Unit Number: UNI\n",
      "Version: V1.2\n",
      "Reversed ID: 2.1V-A-100TINU-5202-CS\n",
      "Specific Part (UNIT001-A): T001-A-\n"
     ]
    }
   ],
   "source": [
    "data_stream_id = \"SC-2025-UNIT001-A-V1.2\"\n",
    "\n",
    "# Get the first two characters (Satellite Code)\n",
    "satellite_code = data_stream_id[0:2] # or data_stream_id[:2]\n",
    "print(f\"Satellite Code: {satellite_code}\")\n",
    "\n",
    "# Get the year\n",
    "year = data_stream_id[3:7]\n",
    "print(f\"Year: {year}\")\n",
    "\n",
    "# Get the unit number\n",
    "unit_number = data_stream_id[8:11]\n",
    "print(f\"Unit Number: {unit_number}\")\n",
    "\n",
    "# Get the version (last 4 characters)\n",
    "version = data_stream_id[-4:]\n",
    "print(f\"Version: {version}\")\n",
    "\n",
    "# Reverse the string\n",
    "reversed_id = data_stream_id[::-1]\n",
    "print(f\"Reversed ID: {reversed_id}\")\n",
    "\n",
    "# Extract parts with negative indexing\n",
    "# Example: UNIT001-A\n",
    "specific_part = data_stream_id[-11:-4]\n",
    "print(f\"Specific Part (UNIT001-A): {specific_part}\")"
   ]
  },
  {
   "cell_type": "code",
   "execution_count": 25,
   "id": "d0a0075b",
   "metadata": {},
   "outputs": [
    {
     "name": "stdout",
     "output_type": "stream",
     "text": [
      "Sensor Data: [10.5, 12.1, 11.8, 13.0, 9.7]\n",
      "Mixed List: ['Sensor_X', 200, True, 15.6]\n",
      "First data point: 10.5\n",
      "Last data point: 9.7\n",
      "Subset of data: [12.1, 11.8, 13.0]\n",
      "After append: [10.5, 12.1, 11.8, 13.0, 9.7, 10.1]\n",
      "After changing element at index 2: [10.5, 12.1, 12.0, 13.0, 9.7, 10.1]\n",
      "After insert: [9.5, 10.5, 12.1, 12.0, 13.0, 9.7, 10.1]\n",
      "After pop: [9.5, 10.5, 12.1, 12.0, 13.0, 9.7]\n",
      "After remove 12.1: [9.5, 10.5, 12.0, 13.0, 9.7]\n",
      "Iterating through sensor data:\n",
      "9.5\n",
      "10.5\n",
      "12.0\n",
      "13.0\n",
      "9.7\n"
     ]
    }
   ],
   "source": [
    "# Creating lists\n",
    "sensor_data_points = [10.5, 12.1, 11.8, 13.0, 9.7]\n",
    "mixed_list = [\"Sensor_X\", 200, True, 15.6]\n",
    "\n",
    "print(f\"Sensor Data: {sensor_data_points}\")\n",
    "print(f\"Mixed List: {mixed_list}\")\n",
    "\n",
    "# Accessing elements (slicing works like strings)\n",
    "print(f\"First data point: {sensor_data_points[0]}\")\n",
    "print(f\"Last data point: {sensor_data_points[-1]}\")\n",
    "print(f\"Subset of data: {sensor_data_points[1:4]}\")  # Index 1, 2, 3\n",
    "\n",
    "# Modifying lists (mutability)\n",
    "sensor_data_points.append(10.1)  # Add an element to the end\n",
    "print(f\"After append: {sensor_data_points}\")\n",
    "\n",
    "sensor_data_points[2] = 12.0  # Correctly change an element at index 2\n",
    "print(f\"After changing element at index 2: {sensor_data_points}\")\n",
    "\n",
    "sensor_data_points.insert(0, 9.5)  # Insert at specific index\n",
    "print(f\"After insert: {sensor_data_points}\")\n",
    "\n",
    "sensor_data_points.pop()  # Remove last element\n",
    "print(f\"After pop: {sensor_data_points}\")\n",
    "\n",
    "sensor_data_points.remove(12.1)  # Remove by value (first occurrence)\n",
    "print(f\"After remove 12.1: {sensor_data_points}\")\n",
    "\n",
    "# Iterating\n",
    "print(\"Iterating through sensor data:\")\n",
    "for data_point in sensor_data_points:\n",
    "    print(data_point)\n"
   ]
  },
  {
   "cell_type": "code",
   "execution_count": 26,
   "id": "6e512111",
   "metadata": {},
   "outputs": [
    {
     "name": "stdout",
     "output_type": "stream",
     "text": [
      "Coordinates: (10.5, 20.3, 5.1)\n",
      "Sensor Reading Metadata: ('TempSensor_01', 28.5, 'Celsius', '2025-06-19T14:45:00')\n",
      "Latitude: 10.5\n",
      "Sensor ID: TempSensor_01\n",
      "Error attempting to modify tuple: 'tuple' object does not support item assignment\n",
      "Unpacked: Lat=10.5, Lon=20.3, Alt=5.1\n",
      "Single tuple type: <class 'tuple'>, Not a tuple type: <class 'int'>\n"
     ]
    }
   ],
   "source": [
    "# Creating tuples\n",
    "coordinates = (10.5, 20.3, 5.1)  # (latitude, longitude, altitude)\n",
    "sensor_reading_metadata = (\"TempSensor_01\", 28.5, \"Celsius\", \"2025-06-19T14:45:00\")\n",
    "\n",
    "print(f\"Coordinates: {coordinates}\")\n",
    "print(f\"Sensor Reading Metadata: {sensor_reading_metadata}\")\n",
    "\n",
    "# Accessing elements (slicing works like lists)\n",
    "print(f\"Latitude: {coordinates[0]}\")\n",
    "print(f\"Sensor ID: {sensor_reading_metadata[0]}\")\n",
    "\n",
    "# Attempting to modify a tuple (will raise TypeError)\n",
    "try:\n",
    "    coordinates[0] = 11.0\n",
    "except TypeError as e:\n",
    "    print(f\"Error attempting to modify tuple: {e}\")\n",
    "\n",
    "# Tuples can be \"unpacked\"\n",
    "lat, lon, alt = coordinates\n",
    "print(f\"Unpacked: Lat={lat}, Lon={lon}, Alt={alt}\")\n",
    "\n",
    "# A single-element tuple needs a comma to differentiate from a parenthesized expression\n",
    "single_tuple = (10,)\n",
    "not_a_tuple = (10)\n",
    "\n",
    "print(f\"Single tuple type: {type(single_tuple)}, Not a tuple type: {type(not_a_tuple)}\")"
   ]
  },
  {
   "cell_type": "code",
   "execution_count": 27,
   "id": "ca658304",
   "metadata": {},
   "outputs": [
    {
     "name": "stdout",
     "output_type": "stream",
     "text": [
      "Sensor Types: {'Humidity', 'Temperature', 'Pressure'}\n",
      "Known Protocols: {'HTTP', 'TCP', 'UDP'}\n",
      "After adding 'Light': {'Humidity', 'Temperature', 'Light', 'Pressure'}\n",
      "After removing 'Humidity': {'Temperature', 'Light', 'Pressure'}\n",
      "All sensors (Union): {'Voltage', 'Humidity', 'Flow', 'Temperature', 'Pressure'}\n",
      "Common sensors (Intersection): {'Pressure'}\n",
      "Only active sensors: {'Flow', 'Temperature'}\n",
      "Flow sensor is present.\n"
     ]
    }
   ],
   "source": [
    "# Creating sets\n",
    "sensor_types = {\"Temperature\", \"Pressure\", \"Humidity\", \"Temperature\"}  # \"Temperature\" is duplicated but stored once\n",
    "print(f\"Sensor Types: {sensor_types}\")  # Order may vary\n",
    "\n",
    "known_protocols = set([\"TCP\", \"UDP\", \"HTTP\", \"TCP\"])\n",
    "print(f\"Known Protocols: {known_protocols}\")\n",
    "\n",
    "# Adding and removing elements\n",
    "sensor_types.add(\"Light\")\n",
    "print(f\"After adding 'Light': {sensor_types}\")\n",
    "\n",
    "sensor_types.remove(\"Humidity\")\n",
    "print(f\"After removing 'Humidity': {sensor_types}\")\n",
    "\n",
    "# Set operations (useful for data filtering/comparison)\n",
    "active_sensors = {\"Temperature\", \"Pressure\", \"Flow\"}\n",
    "alert_sensors = {\"Pressure\", \"Humidity\", \"Voltage\"}\n",
    "\n",
    "# Union: all elements from both sets\n",
    "all_sensors = active_sensors.union(alert_sensors)\n",
    "print(f\"All sensors (Union): {all_sensors}\")\n",
    "\n",
    "# Intersection: elements common to both sets\n",
    "common_sensors = active_sensors.intersection(alert_sensors)\n",
    "print(f\"Common sensors (Intersection): {common_sensors}\")\n",
    "\n",
    "# Difference: elements in active_sensors but not in alert_sensors\n",
    "only_active = active_sensors.difference(alert_sensors)\n",
    "print(f\"Only active sensors: {only_active}\")\n",
    "\n",
    "# Check for element existence\n",
    "if \"Flow\" in active_sensors:\n",
    "    print(\"Flow sensor is present.\")\n"
   ]
  },
  {
   "cell_type": "code",
   "execution_count": 28,
   "id": "73ded463",
   "metadata": {},
   "outputs": [
    {
     "name": "stdout",
     "output_type": "stream",
     "text": [
      "Sensor Config: {'temp_sensor_id': 'TS_001', 'pressure_sensor_id': 'PS_005', 'location': 'Engine Bay', 'sampling_rate_hz': 10}\n",
      "Device Status: {'status': 'Operational', 'last_check': '2025-06-19', 'uptime_hours': 72.5}\n",
      "Temp Sensor ID: TS_001\n",
      "Device Status: Operational\n",
      "Updated Sensor Config: {'temp_sensor_id': 'TS_001', 'pressure_sensor_id': 'PS_005', 'location': 'Engine Bay', 'sampling_rate_hz': 20, 'manufacturer': 'Acme Corp'}\n",
      "After deleting location: {'temp_sensor_id': 'TS_001', 'pressure_sensor_id': 'PS_005', 'sampling_rate_hz': 20, 'manufacturer': 'Acme Corp'}\n",
      "\n",
      "Iterating through sensor config:\n",
      "Keys:\n",
      "temp_sensor_id\n",
      "pressure_sensor_id\n",
      "sampling_rate_hz\n",
      "manufacturer\n",
      "\n",
      "Values:\n",
      "TS_001\n",
      "PS_005\n",
      "20\n",
      "Acme Corp\n",
      "\n",
      "Key-Value Pairs:\n",
      "temp_sensor_id: TS_001\n",
      "pressure_sensor_id: PS_005\n",
      "sampling_rate_hz: 20\n",
      "manufacturer: Acme Corp\n",
      "Sampling rate exists in config.\n",
      "Calibration Date (using get): None\n",
      "Calibration Date (using get with default): N/A\n"
     ]
    }
   ],
   "source": [
    "# Creating dictionaries\n",
    "# Sensor configuration dictionary\n",
    "sensor_config = {\n",
    "    \"temp_sensor_id\": \"TS_001\",\n",
    "    \"pressure_sensor_id\": \"PS_005\",\n",
    "    \"location\": \"Engine Bay\",\n",
    "    \"sampling_rate_hz\": 10\n",
    "}\n",
    "\n",
    "# Another way to create using dict() constructor with keywords\n",
    "device_status = dict(status=\"Operational\", last_check=\"2025-06-19\", uptime_hours=72.5)\n",
    "\n",
    "print(f\"Sensor Config: {sensor_config}\")\n",
    "print(f\"Device Status: {device_status}\")\n",
    "\n",
    "# Accessing values by key\n",
    "print(f\"Temp Sensor ID: {sensor_config['temp_sensor_id']}\")\n",
    "print(f\"Device Status: {device_status['status']}\")\n",
    "\n",
    "# Adding/modifying elements\n",
    "sensor_config[\"manufacturer\"] = \"Acme Corp\"  # Add a new key-value pair\n",
    "sensor_config[\"sampling_rate_hz\"] = 20  # Update an existing value\n",
    "print(f\"Updated Sensor Config: {sensor_config}\")\n",
    "\n",
    "# Removing elements\n",
    "del sensor_config[\"location\"]  # Delete by key\n",
    "print(f\"After deleting location: {sensor_config}\")\n",
    "\n",
    "# Iterating through dictionaries\n",
    "print(\"\\nIterating through sensor config:\")\n",
    "print(\"Keys:\")\n",
    "for key in sensor_config.keys():\n",
    "    print(key)\n",
    "\n",
    "print(\"\\nValues:\")\n",
    "for value in sensor_config.values():\n",
    "    print(value)\n",
    "\n",
    "print(\"\\nKey-Value Pairs:\")\n",
    "for key, value in sensor_config.items():\n",
    "    print(f\"{key}: {value}\")\n",
    "\n",
    "# Check for key existence\n",
    "if \"sampling_rate_hz\" in sensor_config:\n",
    "    print(\"Sampling rate exists in config.\")\n",
    "\n",
    "# Using get() method for safe access (returns None or default if key not found)\n",
    "non_existent = sensor_config.get(\"calibration_date\")\n",
    "print(f\"Calibration Date (using get): {non_existent}\")\n",
    "calibration_date = sensor_config.get(\"calibration_date\", \"N/A\")\n",
    "print(f\"Calibration Date (using get with default): {calibration_date}\")\n"
   ]
  },
  {
   "cell_type": "code",
   "execution_count": 29,
   "id": "53049eaf",
   "metadata": {},
   "outputs": [
    {
     "name": "stdout",
     "output_type": "stream",
     "text": [
      "High Readings (mV): [155, 220]\n"
     ]
    }
   ],
   "source": [
    "# Example 1: Filtering sensor data to include only readings above a threshold\n",
    "raw_readings_mV = [25, 120, 155, 80, 220]\n",
    "alert_threshold_mV = 150\n",
    "\n",
    "high_readings = [reading for reading in raw_readings_mV if reading > alert_threshold_mV]\n",
    "print(f\"High Readings (mV): {high_readings}\")\n"
   ]
  },
  {
   "cell_type": "code",
   "execution_count": 30,
   "id": "d1cb65e7",
   "metadata": {},
   "outputs": [
    {
     "name": "stdout",
     "output_type": "stream",
     "text": [
      "Normalized Readings (V, >100mV): [0.12, 0.155, 0.22]\n"
     ]
    }
   ],
   "source": [
    "# Example 2: Normalizing and converting units for selected readings\n",
    "# Convert mV to Volts (divide by 1000) and only include readings above 100 mV\n",
    "normalized_volts = [\n",
    "    reading / 1000\n",
    "    for reading in raw_readings_mV\n",
    "    if reading > 100\n",
    "]\n",
    "print(f\"Normalized Readings (V, >100mV): {normalized_volts}\")"
   ]
  },
  {
   "cell_type": "code",
   "execution_count": 31,
   "id": "9325b1de",
   "metadata": {},
   "outputs": [
    {
     "name": "stdout",
     "output_type": "stream",
     "text": [
      "Processed elements (squared evens): [4, 16, 36, 64]\n"
     ]
    }
   ],
   "source": [
    "# Example 3: Nested list comprehension (e.g., processing a 2D grid)\n",
    "matrix = [\n",
    "[1,2,3],\n",
    "[4,5,6],\n",
    "[7,8,9]\n",
    "]\n",
    "\n",
    "# Flatten the matrix and square only even numbers\n",
    "processed_elements = [\n",
    "    element**2\n",
    "    for row in matrix\n",
    "    for element in row\n",
    "    if element % 2 == 0\n",
    "]\n",
    "print(f\"Processed elements (squared evens): {processed_elements}\")"
   ]
  },
  {
   "cell_type": "code",
   "execution_count": 32,
   "id": "fce22720",
   "metadata": {},
   "outputs": [
    {
     "name": "stdout",
     "output_type": "stream",
     "text": [
      "Sensor Status: {'TS_001': 'Operational', 'PS_002': 'Operational', 'HS_003': 'Operational', 'VS_004': 'Operational'}\n",
      "Sensor Status: {'TS_001': 'Operational', 'PS_002': 'Operational', 'HS_003': 'Operational', 'VS_004': 'Operational'}\n"
     ]
    }
   ],
   "source": [
    "\n",
    "# Example 1: Creating a dictionary from a list of sensor IDs with default status\n",
    "sensor_ids = [\"TS_001\", \"PS_002\", \"HS_003\", \"VS_004\"]\n",
    "\n",
    "sensor_status = {sensor_id: \"Operational\" for sensor_id in sensor_ids}\n",
    "print(f\"Sensor Status: {sensor_status}\")\n",
    "\n",
    "sensor_status = {sensor_id: \"Operational\" for sensor_id in sensor_ids}\n",
    "print(f\"Sensor Status: {sensor_status}\")"
   ]
  },
  {
   "cell_type": "code",
   "execution_count": 33,
   "id": "fef3d0df",
   "metadata": {},
   "outputs": [
    {
     "name": "stdout",
     "output_type": "stream",
     "text": [
      "Critical Alerts: {'memory_usage_mb': 2048, 'disk_free_gb': 150, 'network_latency_ms': 120, 'power_draw_watts': 350}\n"
     ]
    }
   ],
   "source": [
    "# Example 2: Filtering and transforming existing dictionary data\n",
    "# Create a new dictionary for critical parameters (values > 100)\n",
    "system_parameters = {\n",
    "    \"cpu_temp\": 85,\n",
    "    \"memory_usage_mb\": 2048,\n",
    "    \"disk_free_gb\": 150,\n",
    "    \"network_latency_ms\": 120,\n",
    "    \"power_draw_watts\": 350\n",
    "}\n",
    "\n",
    "critical_alerts = {\n",
    "    param: value\n",
    "    for param, value in system_parameters.items()\n",
    "    if value > 100  # Arbitrary threshold for critical alerts\n",
    "}\n",
    "print(f\"Critical Alerts: {critical_alerts}\")"
   ]
  },
  {
   "cell_type": "code",
   "execution_count": 34,
   "id": "103ab999",
   "metadata": {},
   "outputs": [
    {
     "name": "stdout",
     "output_type": "stream",
     "text": [
      "Temperature Sensor Numerical Map: {'TS_001': 1, 'TS_003': 3}\n"
     ]
    }
   ],
   "source": [
    "# Example 3: Mapping string data to a numerical ID if it starts with 'TS'\n",
    "device_codes = [\"TS_001\", \"PS_002\", \"TS_003\", \"HS_004\"]\n",
    "device_numerical_map = {\n",
    "    code: int(code.split('_')[1])\n",
    "    for code in device_codes\n",
    "    if code.startswith('TS')\n",
    "}\n",
    "print(f\"Temperature Sensor Numerical Map: {device_numerical_map}\")"
   ]
  },
  {
   "cell_type": "code",
   "execution_count": 35,
   "id": "7f455190",
   "metadata": {},
   "outputs": [
    {
     "name": "stdout",
     "output_type": "stream",
     "text": [
      "Unique Error IDs: {'E102', 'E101'}\n"
     ]
    }
   ],
   "source": [
    "# Example 1: Extracting unique error codes from a log list\n",
    "all_error_codes = [\n",
    "    \"E101\", \"W203\", \"E101\", \"F001\", \"I500\", \"W203\", \"E102\", \"E101\"\n",
    "]\n",
    "\n",
    "unique_error_ids = {code for code in all_error_codes if code.startswith('E')}\n",
    "print(f\"Unique Error IDs: {unique_error_ids}\")"
   ]
  },
  {
   "cell_type": "code",
   "execution_count": 36,
   "id": "d819f265",
   "metadata": {},
   "outputs": [
    {
     "name": "stdout",
     "output_type": "stream",
     "text": [
      "Squared Odd Numbers (1-10): {1, 9, 81, 49, 25}\n"
     ]
    }
   ],
   "source": [
    "# Example 2: Generating a set of squared odd numbers from a range\n",
    "squared_odd_numbers = {x**2 for x in range(1, 11) if x % 2 != 0}\n",
    "print(f\"Squared Odd Numbers (1-10): {squared_odd_numbers}\")\n"
   ]
  },
  {
   "cell_type": "code",
   "execution_count": 37,
   "id": "022958a7",
   "metadata": {},
   "outputs": [
    {
     "name": "stdout",
     "output_type": "stream",
     "text": [
      "Normalized Temperature: [0.058823529411764705, 0.35294117647058826, 0.17647058823529413, 1.0, 0.0]\n",
      "------------------------------------------------------------\n",
      "Unique States: ['Active', 'Error', 'Standby']\n",
      "One-Hot Map: {'Active': [1, 0, 0], 'Error': [0, 1, 0], 'Standby': [0, 0, 1]}\n",
      "One-Hot Encoded States: [[1, 0, 0], [0, 0, 1], [0, 1, 0], [1, 0, 0], [0, 0, 1]]\n",
      "------------------------------------------------------------\n",
      "Label Map: {'Active': 0, 'Error': 1, 'Standby': 2}\n",
      "Label Encoded States: [0, 2, 1, 0, 2]\n"
     ]
    }
   ],
   "source": [
    "# Data Normalization\n",
    "raw_temp = [20.0, 22.5, 21.0, 28.0, 19.5]\n",
    "min_temp = min(raw_temp)\n",
    "max_temp = max(raw_temp)\n",
    "normalized_temp = [(t - min_temp) / (max_temp - min_temp) for t in raw_temp]\n",
    "print(f\"Normalized Temperature: {normalized_temp}\")\n",
    "\n",
    "print(\"-\" * 60)\n",
    "\n",
    "# Data Encoding\n",
    "sensor_states = [\"Active\", \"Standby\", \"Error\", \"Active\", \"Standby\"]\n",
    "unique_states = sorted(list(set(sensor_states)))\n",
    "print(f\"Unique States: {unique_states}\")\n",
    "\n",
    "# One-Hot Encoding\n",
    "one_hot_map = {\n",
    "    state: [1 if state == u_state else 0 for u_state in unique_states]\n",
    "    for state in unique_states\n",
    "}\n",
    "print(f\"One-Hot Map: {one_hot_map}\")\n",
    "encoded_states_one_hot = [one_hot_map[state] for state in sensor_states]\n",
    "print(f\"One-Hot Encoded States: {encoded_states_one_hot}\")\n",
    "\n",
    "print(\"-\" * 60)\n",
    "\n",
    "# Label Encoding\n",
    "label_map = {state: i for i, state in enumerate(unique_states)}\n",
    "print(f\"Label Map: {label_map}\")\n",
    "encoded_states_label = [label_map[state] for state in sensor_states]\n",
    "print(f\"Label Encoded States: {encoded_states_label}\")"
   ]
  }
 ],
 "metadata": {
  "kernelspec": {
   "display_name": "urscenv",
   "language": "python",
   "name": "python3"
  },
  "language_info": {
   "codemirror_mode": {
    "name": "ipython",
    "version": 3
   },
   "file_extension": ".py",
   "mimetype": "text/x-python",
   "name": "python",
   "nbconvert_exporter": "python",
   "pygments_lexer": "ipython3",
   "version": "3.13.5"
  }
 },
 "nbformat": 4,
 "nbformat_minor": 5
}
