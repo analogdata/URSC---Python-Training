{
 "cells": [
  {
   "cell_type": "code",
   "execution_count": 1,
   "id": "95cbc85d",
   "metadata": {},
   "outputs": [],
   "source": [
    "class Employee:\n",
    "    pass"
   ]
  },
  {
   "cell_type": "code",
   "execution_count": 2,
   "id": "f6c6b077",
   "metadata": {},
   "outputs": [],
   "source": [
    "raj = Employee()"
   ]
  },
  {
   "cell_type": "code",
   "execution_count": 3,
   "id": "3ef4bd4c",
   "metadata": {},
   "outputs": [],
   "source": [
    "raj.name = \"rajath\"\n",
    "raj.age = 33\n",
    "raj.salary = 30000"
   ]
  },
  {
   "cell_type": "code",
   "execution_count": 4,
   "id": "bb09fac2",
   "metadata": {},
   "outputs": [
    {
     "data": {
      "text/plain": [
       "{'name': 'rajath', 'age': 33, 'salary': 30000}"
      ]
     },
     "execution_count": 4,
     "metadata": {},
     "output_type": "execute_result"
    }
   ],
   "source": [
    "raj.__dict__"
   ]
  },
  {
   "cell_type": "code",
   "execution_count": 5,
   "id": "25e3ac75",
   "metadata": {},
   "outputs": [],
   "source": [
    "bob = Employee()\n",
    "bob.name = \"Bob\"\n",
    "bob.age = 25\n",
    "bob.salary = 50000"
   ]
  },
  {
   "cell_type": "code",
   "execution_count": 6,
   "id": "e5cf7aa0",
   "metadata": {},
   "outputs": [
    {
     "data": {
      "text/plain": [
       "{'name': 'Bob', 'age': 25, 'salary': 50000}"
      ]
     },
     "execution_count": 6,
     "metadata": {},
     "output_type": "execute_result"
    }
   ],
   "source": [
    "bob.__dict__"
   ]
  },
  {
   "cell_type": "code",
   "execution_count": null,
   "id": "0bb04d6f",
   "metadata": {},
   "outputs": [],
   "source": [
    "class Employee:\n",
    "    no_of_emps = 0\n",
    "    hike_percent = 1.10\n",
    "\n",
    "    def __init__(self, name, age, salary):\n",
    "        self.name = name\n",
    "        self.age = age\n",
    "        self.salary = salary\n",
    "        Employee.no_of_emps = Employee.no_of_emps + 1\n",
    "\n",
    "    def printid(self):\n",
    "        print(self.name, self.age)\n",
    "\n",
    "    def hike(self):\n",
    "        self.salary = self.salary * Employee.hike_percent\n"
   ]
  },
  {
   "cell_type": "code",
   "execution_count": 15,
   "id": "4b952119",
   "metadata": {},
   "outputs": [],
   "source": [
    "emp_01 = Employee('Rajath', 33, 30000)\n",
    "emp_02 = Employee('Bob', 25, 50000)\n"
   ]
  },
  {
   "cell_type": "code",
   "execution_count": 16,
   "id": "07679fe2",
   "metadata": {},
   "outputs": [
    {
     "data": {
      "text/plain": [
       "2"
      ]
     },
     "execution_count": 16,
     "metadata": {},
     "output_type": "execute_result"
    }
   ],
   "source": [
    "Employee.no_of_emps"
   ]
  },
  {
   "cell_type": "code",
   "execution_count": 12,
   "id": "2d21fd1c",
   "metadata": {},
   "outputs": [
    {
     "data": {
      "text/plain": [
       "{'name': 'Rajath', 'age': 33, 'salary': 30000}"
      ]
     },
     "execution_count": 12,
     "metadata": {},
     "output_type": "execute_result"
    }
   ],
   "source": [
    "emp_01.__dict__"
   ]
  },
  {
   "cell_type": "code",
   "execution_count": 13,
   "id": "db76ed2b",
   "metadata": {},
   "outputs": [
    {
     "name": "stdout",
     "output_type": "stream",
     "text": [
      "Rajath 33\n"
     ]
    }
   ],
   "source": [
    "emp_01.printid()"
   ]
  },
  {
   "cell_type": "code",
   "execution_count": null,
   "id": "b4bbe535",
   "metadata": {},
   "outputs": [],
   "source": []
  }
 ],
 "metadata": {
  "kernelspec": {
   "display_name": "urscenv",
   "language": "python",
   "name": "python3"
  },
  "language_info": {
   "codemirror_mode": {
    "name": "ipython",
    "version": 3
   },
   "file_extension": ".py",
   "mimetype": "text/x-python",
   "name": "python",
   "nbconvert_exporter": "python",
   "pygments_lexer": "ipython3",
   "version": "3.13.5"
  }
 },
 "nbformat": 4,
 "nbformat_minor": 5
}
